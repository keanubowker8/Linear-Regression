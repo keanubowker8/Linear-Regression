{
 "cells": [
  {
   "cell_type": "code",
   "execution_count": 1,
   "metadata": {},
   "outputs": [],
   "source": [
    "import pandas as pd\n",
    "import numpy as np\n",
    "from sklearn.model_selection import train_test_split\n",
    "import statsmodels.api as sm\n",
    "import seaborn as sns\n",
    "import matplotlib.pyplot as plt\n",
    "from scipy.stats import pearsonr\n",
    "from sklearn import metrics"
   ]
  },
  {
   "cell_type": "code",
   "execution_count": 2,
   "metadata": {
    "scrolled": true
   },
   "outputs": [
    {
     "data": {
      "text/html": [
       "<div>\n",
       "<style scoped>\n",
       "    .dataframe tbody tr th:only-of-type {\n",
       "        vertical-align: middle;\n",
       "    }\n",
       "\n",
       "    .dataframe tbody tr th {\n",
       "        vertical-align: top;\n",
       "    }\n",
       "\n",
       "    .dataframe thead th {\n",
       "        text-align: right;\n",
       "    }\n",
       "</style>\n",
       "<table border=\"1\" class=\"dataframe\">\n",
       "  <thead>\n",
       "    <tr style=\"text-align: right;\">\n",
       "      <th></th>\n",
       "      <th>salary</th>\n",
       "      <th>exprior</th>\n",
       "      <th>yearsworked</th>\n",
       "      <th>yearsrank</th>\n",
       "      <th>market</th>\n",
       "      <th>degree</th>\n",
       "      <th>otherqual</th>\n",
       "      <th>position</th>\n",
       "      <th>male</th>\n",
       "      <th>Field</th>\n",
       "      <th>yearsabs</th>\n",
       "    </tr>\n",
       "  </thead>\n",
       "  <tbody>\n",
       "    <tr>\n",
<<<<<<< HEAD
       "      <td>0</td>\n",
=======
       "      <th>0</th>\n",
>>>>>>> 5923c7c85b11a1b958a8f5809e2a0e993a24a5ae
       "      <td>53000.0</td>\n",
       "      <td>0</td>\n",
       "      <td>0</td>\n",
       "      <td>0</td>\n",
       "      <td>1.17</td>\n",
       "      <td>1</td>\n",
       "      <td>0</td>\n",
       "      <td>1</td>\n",
       "      <td>1</td>\n",
       "      <td>3</td>\n",
       "      <td>0</td>\n",
       "    </tr>\n",
       "    <tr>\n",
<<<<<<< HEAD
       "      <td>1</td>\n",
=======
       "      <th>1</th>\n",
>>>>>>> 5923c7c85b11a1b958a8f5809e2a0e993a24a5ae
       "      <td>58000.0</td>\n",
       "      <td>1</td>\n",
       "      <td>0</td>\n",
       "      <td>0</td>\n",
       "      <td>1.24</td>\n",
       "      <td>1</td>\n",
       "      <td>0</td>\n",
       "      <td>1</td>\n",
       "      <td>1</td>\n",
       "      <td>2</td>\n",
       "      <td>0</td>\n",
       "    </tr>\n",
       "    <tr>\n",
<<<<<<< HEAD
       "      <td>2</td>\n",
=======
       "      <th>2</th>\n",
>>>>>>> 5923c7c85b11a1b958a8f5809e2a0e993a24a5ae
       "      <td>45500.0</td>\n",
       "      <td>0</td>\n",
       "      <td>0</td>\n",
       "      <td>0</td>\n",
       "      <td>1.21</td>\n",
       "      <td>1</td>\n",
       "      <td>0</td>\n",
       "      <td>1</td>\n",
       "      <td>1</td>\n",
       "      <td>3</td>\n",
       "      <td>2</td>\n",
       "    </tr>\n",
       "    <tr>\n",
<<<<<<< HEAD
       "      <td>3</td>\n",
=======
       "      <th>3</th>\n",
>>>>>>> 5923c7c85b11a1b958a8f5809e2a0e993a24a5ae
       "      <td>35782.0</td>\n",
       "      <td>0</td>\n",
       "      <td>2</td>\n",
       "      <td>1</td>\n",
       "      <td>0.99</td>\n",
       "      <td>1</td>\n",
       "      <td>0</td>\n",
       "      <td>1</td>\n",
       "      <td>1</td>\n",
       "      <td>4</td>\n",
       "      <td>1</td>\n",
       "    </tr>\n",
       "    <tr>\n",
<<<<<<< HEAD
       "      <td>4</td>\n",
=======
       "      <th>4</th>\n",
>>>>>>> 5923c7c85b11a1b958a8f5809e2a0e993a24a5ae
       "      <td>34731.0</td>\n",
       "      <td>0</td>\n",
       "      <td>2</td>\n",
       "      <td>2</td>\n",
       "      <td>0.91</td>\n",
       "      <td>1</td>\n",
       "      <td>0</td>\n",
       "      <td>1</td>\n",
       "      <td>1</td>\n",
       "      <td>4</td>\n",
       "      <td>1</td>\n",
       "    </tr>\n",
       "  </tbody>\n",
       "</table>\n",
       "</div>"
      ],
      "text/plain": [
       "    salary  exprior  yearsworked  yearsrank  market  degree  otherqual  \\\n",
       "0  53000.0        0            0          0    1.17       1          0   \n",
       "1  58000.0        1            0          0    1.24       1          0   \n",
       "2  45500.0        0            0          0    1.21       1          0   \n",
       "3  35782.0        0            2          1    0.99       1          0   \n",
       "4  34731.0        0            2          2    0.91       1          0   \n",
       "\n",
       "   position  male  Field  yearsabs  \n",
       "0         1     1      3         0  \n",
       "1         1     1      2         0  \n",
       "2         1     1      3         2  \n",
       "3         1     1      4         1  \n",
       "4         1     1      4         1  "
      ]
     },
     "execution_count": 2,
     "metadata": {},
     "output_type": "execute_result"
    }
   ],
   "source": [
    "df = pd.read_csv('salary.csv')\n",
    "df.head()"
   ]
  },
  {
   "cell_type": "code",
   "execution_count": 3,
   "metadata": {},
   "outputs": [
    {
     "data": {
      "text/plain": [
       "True"
      ]
     },
     "execution_count": 3,
     "metadata": {},
     "output_type": "execute_result"
    }
   ],
   "source": [
    "df.isnull().values.any()"
   ]
  },
  {
   "cell_type": "code",
   "execution_count": 4,
   "metadata": {},
   "outputs": [
    {
     "data": {
      "text/html": [
       "<div>\n",
       "<style scoped>\n",
       "    .dataframe tbody tr th:only-of-type {\n",
       "        vertical-align: middle;\n",
       "    }\n",
       "\n",
       "    .dataframe tbody tr th {\n",
       "        vertical-align: top;\n",
       "    }\n",
       "\n",
       "    .dataframe thead th {\n",
       "        text-align: right;\n",
       "    }\n",
       "</style>\n",
       "<table border=\"1\" class=\"dataframe\">\n",
       "  <thead>\n",
       "    <tr style=\"text-align: right;\">\n",
       "      <th></th>\n",
       "      <th>salary</th>\n",
       "      <th>exprior</th>\n",
       "      <th>yearsworked</th>\n",
       "      <th>yearsrank</th>\n",
       "      <th>market</th>\n",
       "      <th>degree</th>\n",
       "      <th>otherqual</th>\n",
       "      <th>position</th>\n",
       "      <th>male</th>\n",
       "      <th>Field</th>\n",
       "      <th>yearsabs</th>\n",
       "    </tr>\n",
       "  </thead>\n",
       "  <tbody>\n",
       "    <tr>\n",
<<<<<<< HEAD
       "      <td>208</td>\n",
=======
       "      <th>208</th>\n",
>>>>>>> 5923c7c85b11a1b958a8f5809e2a0e993a24a5ae
       "      <td>NaN</td>\n",
       "      <td>0</td>\n",
       "      <td>21</td>\n",
       "      <td>10</td>\n",
       "      <td>0.93</td>\n",
       "      <td>1</td>\n",
       "      <td>0</td>\n",
       "      <td>3</td>\n",
       "      <td>1</td>\n",
       "      <td>4</td>\n",
       "      <td>1</td>\n",
       "    </tr>\n",
       "  </tbody>\n",
       "</table>\n",
       "</div>"
      ],
      "text/plain": [
       "     salary  exprior  yearsworked  yearsrank  market  degree  otherqual  \\\n",
       "208     NaN        0           21         10    0.93       1          0   \n",
       "\n",
       "     position  male  Field  yearsabs  \n",
       "208         3     1      4         1  "
      ]
     },
     "execution_count": 4,
     "metadata": {},
     "output_type": "execute_result"
    }
   ],
   "source": [
    "# - Checking to see which value is the null value. Who that person is and how removing them will affect the data set.\n",
    "df[df['salary'].isnull()]"
   ]
  },
  {
   "cell_type": "code",
   "execution_count": 5,
   "metadata": {},
   "outputs": [
    {
     "data": {
      "text/plain": [
       "5.0"
      ]
     },
     "execution_count": 5,
     "metadata": {},
     "output_type": "execute_result"
    }
   ],
   "source": [
    "df['yearsrank'].median()"
   ]
  },
  {
   "cell_type": "code",
   "execution_count": 6,
   "metadata": {},
   "outputs": [],
   "source": [
    "# - Dropping row with null value\n",
    "df_new = df.dropna(axis=0, inplace=True)"
   ]
  },
  {
   "cell_type": "code",
   "execution_count": 7,
   "metadata": {},
   "outputs": [
    {
     "data": {
      "text/plain": [
       "False"
      ]
     },
     "execution_count": 7,
     "metadata": {},
     "output_type": "execute_result"
    }
   ],
   "source": [
    "# - Checking to confirm that the df has no null values\n",
    "df.isnull().values.any()"
   ]
  },
  {
   "cell_type": "markdown",
   "metadata": {},
   "source": [
    "### EDA"
   ]
  },
  {
   "cell_type": "code",
   "execution_count": 8,
   "metadata": {},
   "outputs": [
    {
     "data": {
<<<<<<< HEAD
      "image/png": "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\n",
=======
      "image/png": "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\n",
>>>>>>> 5923c7c85b11a1b958a8f5809e2a0e993a24a5ae
      "text/plain": [
       "<Figure size 432x288 with 1 Axes>"
      ]
     },
     "metadata": {
      "needs_background": "light"
     },
     "output_type": "display_data"
    },
    {
     "data": {
<<<<<<< HEAD
      "image/png": "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\n",
=======
      "image/png": "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\n",
>>>>>>> 5923c7c85b11a1b958a8f5809e2a0e993a24a5ae
      "text/plain": [
       "<Figure size 432x288 with 1 Axes>"
      ]
     },
     "metadata": {
      "needs_background": "light"
     },
     "output_type": "display_data"
    },
    {
     "data": {
<<<<<<< HEAD
      "image/png": "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\n",
=======
      "image/png": "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\n",
>>>>>>> 5923c7c85b11a1b958a8f5809e2a0e993a24a5ae
      "text/plain": [
       "<Figure size 432x288 with 1 Axes>"
      ]
     },
     "metadata": {
      "needs_background": "light"
     },
     "output_type": "display_data"
    },
    {
     "data": {
<<<<<<< HEAD
      "image/png": "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\n",
=======
      "image/png": "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\n",
>>>>>>> 5923c7c85b11a1b958a8f5809e2a0e993a24a5ae
      "text/plain": [
       "<Figure size 432x288 with 1 Axes>"
      ]
     },
     "metadata": {
      "needs_background": "light"
     },
     "output_type": "display_data"
    },
    {
     "data": {
<<<<<<< HEAD
      "image/png": "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\n",
=======
      "image/png": "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\n",
>>>>>>> 5923c7c85b11a1b958a8f5809e2a0e993a24a5ae
      "text/plain": [
       "<Figure size 432x288 with 1 Axes>"
      ]
     },
     "metadata": {
      "needs_background": "light"
     },
     "output_type": "display_data"
    },
    {
     "data": {
<<<<<<< HEAD
      "image/png": "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\n",
=======
      "image/png": "iVBORw0KGgoAAAANSUhEUgAAAXcAAAEICAYAAACktLTqAAAABHNCSVQICAgIfAhkiAAAAAlwSFlzAAALEgAACxIB0t1+/AAAADh0RVh0U29mdHdhcmUAbWF0cGxvdGxpYiB2ZXJzaW9uMy4xLjAsIGh0dHA6Ly9tYXRwbG90bGliLm9yZy+17YcXAAAQ+ElEQVR4nO3de5CddX3H8fcHImC9cA2ICRgdY0fGUWBSxHFG0TiWizXUQotTa3Qyplq8jZ2pWNtpa3UGOlPpMHXQVJDgVLl4I0VqpVzGK2gQBJFSIiCkoSQUiDoMKvjtH+cXXZLd7Mnunl32l/drZuc8z+/5Pc/z/WU3n332d855TqoKSVJf9pjrAiRJM89wl6QOGe6S1CHDXZI6ZLhLUocMd0nqkOGu7iW5IMmH57oOaTYZ7pLUIcNdmoIkC+a6BmlnDHd1J8lRSb6X5KdJLgb2GbPtdUluSvJwkm8lefGYbUcnubHtd2mSi7dN5yQ5LsnGJO9P8r/Ap4Y43rOTfD7JliR3JXn37P0raHdnuKsrSfYCvgR8GjgAuBT4g7btaOB84E+BA4FPAOuS7N32+yJwQdvvs8Dvb3f4Z7VtzwFWT3K8PYB/A74PLAKWA+9N8rujGbn0RPHeMupJklcAFwGLqv1wJ/kWcDWDAH6gqv56TP/bgdVAMQj0xWP2+wZwbVX9VZLjgK8Cz6yqR9v2c3dyvEeBS6vq8DHbPgC8oKreOqrxS9s4b6jePBv4n3riVcuP2+NzgJVJ3jVm215tnxpnv3u3O/aWbcE+xPEeB56d5OEx2/YEvr6rA5KmwnBXb+4DFiXJmKA+HPgRg7D+SFV9ZPudkrxynP0Oa/tts/2fuTs73suAu6pq6fSGI02Nc+7qzbeBx4B3J1mQ5A3AMW3bvwBvT/LSDDwtyUlJntH2exx4Z9tvxZj9JrKz430H+El7AvapSfZM8qIkvzOSUUvbMdzVlar6BfAG4C3AQ8AfAV9o29YDbwP+uW3b0PqN3W8V8DDwJuBy4Oc7OdfOjvc48HvAkcBdwAPAJ4F9Z2qs0s74hKo0gSTXAx+vqk/NdS3SrvLKXWqSvDLJs9q0zErgxcBX5rouaSp8QlX6jd8GLgGezuCJ1FOq6r65LUmaGqdlJKlDTstIUoeeFNMyBx10UC1ZsmSuy5CkeeWGG254oKoWjrftSRHuS5YsYf369XNdhiTNK0l+PNE2p2UkqUOGuyR1yHCXpA4NFe5J7k5yS/tQgvWt7YAkVya5oz3u39qT5JwkG5Lc3O55LUmaRbty5f6qqjqyqpa19TOAq9pd765q6wAnAEvb12rg3JkqVpI0nOlMy6wA1rbltcDJY9ovrIHrgP2SHDqN80iSdtGw4V7AV5PckGR1aztk21uz2+PBrX0RT/yQg42tTZI0S4Z9nfvLq2pTkoOBK5P81076Zpy2He5x0H5JrAY4/PDDd9hBkjR1Q125V9Wm9riZwYcIHwPcv226pT1ubt03MvgEm20WA5vGOeaaqlpWVcsWLhz3DVaSpCma9Mo9ydOAParqp235tcCHgHXASuDM9nhZ22Udg0+zuQh4KbDVO+tJejJbcsaX5+zcd5950kiOO8y0zCHAF5Ns6/+ZqvpKku8ClyRZBdwDnNr6XwGcyOBTaR4B/KR3SZplk4Z7Vd0JvGSc9v8Dlo/TXsDpM1KdJGlKfIeqJHXIcJekDhnuktQhw12SOmS4S1KHDHdJ6pDhLkkdMtwlqUOGuyR1yHCXpA4Z7pLUIcNdkjpkuEtShwx3SeqQ4S5JHTLcJalDhrskdchwl6QOGe6S1CHDXZI6ZLhLUocMd0nqkOEuSR0y3CWpQ4a7JHXIcJekDhnuktQhw12SOmS4S1KHDHdJ6pDhLkkdMtwlqUOGuyR1aOhwT7JnkhuTXN7Wn5vk+iR3JLk4yV6tfe+2vqFtXzKa0iVJE9mVK/f3ALeNWT8LOLuqlgIPAata+yrgoap6PnB26ydJmkVDhXuSxcBJwCfbeoBXA59rXdYCJ7flFW2dtn156y9JmiXDXrn/E/AXwK/a+oHAw1X1WFvfCCxqy4uAewHa9q2t/xMkWZ1kfZL1W7ZsmWL5kqTxTBruSV4HbK6qG8Y2j9O1htj2m4aqNVW1rKqWLVy4cKhiJUnDWTBEn5cDr09yIrAP8EwGV/L7JVnQrs4XA5ta/43AYcDGJAuAfYEHZ7xySdKEJr1yr6oPVNXiqloCnAZcXVV/DFwDnNK6rQQua8vr2jpt+9VVtcOVuyRpdKbzOvf3A+9LsoHBnPp5rf084MDW/j7gjOmVKEnaVcNMy/xaVV0LXNuW7wSOGafPo8CpM1CbJGmKfIeqJHXIcJekDhnuktQhw12SOmS4S1KHDHdJ6pDhLkkdMtwlqUOGuyR1yHCXpA4Z7pLUIcNdkjpkuEtShwx3SeqQ4S5JHTLcJalDhrskdchwl6QOGe6S1CHDXZI6ZLhLUocMd0nqkOEuSR0y3CWpQ4a7JHXIcJekDhnuktQhw12SOmS4S1KHDHdJ6pDhLkkdMtwlqUOGuyR1aNJwT7JPku8k+X6SW5P8XWt/bpLrk9yR5OIke7X2vdv6hrZ9yWiHIEna3jBX7j8HXl1VLwGOBI5PcixwFnB2VS0FHgJWtf6rgIeq6vnA2a2fJGkWTRruNfCztvqU9lXAq4HPtfa1wMlteUVbp21fniQzVrEkaVJDzbkn2TPJTcBm4ErgR8DDVfVY67IRWNSWFwH3ArTtW4EDxznm6iTrk6zfsmXL9EYhSXqCocK9qh6vqiOBxcAxwAvH69Yex7tKrx0aqtZU1bKqWrZw4cJh65UkDWGXXi1TVQ8D1wLHAvslWdA2LQY2teWNwGEAbfu+wIMzUawkaTjDvFpmYZL92vJTgdcAtwHXAKe0biuBy9ryurZO2351Ve1w5S5JGp0Fk3fhUGBtkj0Z/DK4pKouT/JD4KIkHwZuBM5r/c8DPp1kA4Mr9tNGULckaScmDfequhk4apz2OxnMv2/f/ihw6oxUJ0maEt+hKkkdMtwlqUOGuyR1yHCXpA4Z7pLUIcNdkjpkuEtShwx3SeqQ4S5JHTLcJalDhrskdchwl6QOGe6S1CHDXZI6ZLhLUocMd0nqkOEuSR0y3CWpQ4a7JHXIcJekDhnuktQhw12SOmS4S1KHDHdJ6pDhLkkdMtwlqUOGuyR1yHCXpA4Z7pLUIcNdkjpkuEtShwx3SeqQ4S5JHZo03JMcluSaJLcluTXJe1r7AUmuTHJHe9y/tSfJOUk2JLk5ydGjHoQk6YmGuXJ/DPjzqnohcCxwepIjgDOAq6pqKXBVWwc4AVjavlYD58541ZKknZo03Kvqvqr6Xlv+KXAbsAhYAaxt3dYCJ7flFcCFNXAdsF+SQ2e8cknShHZpzj3JEuAo4HrgkKq6Dwa/AICDW7dFwL1jdtvY2rY/1uok65Os37Jly65XLkma0NDhnuTpwOeB91bVT3bWdZy22qGhak1VLauqZQsXLhy2DEnSEIYK9yRPYRDs/1pVX2jN92+bbmmPm1v7RuCwMbsvBjbNTLmSpGEM82qZAOcBt1XVR8dsWgesbMsrgcvGtL+5vWrmWGDrtukbSdLsWDBEn5cDfwLckuSm1vaXwJnAJUlWAfcAp7ZtVwAnAhuAR4C3zmjFkqRJTRruVfUNxp9HB1g+Tv8CTp9mXZKkafAdqpLUIcNdkjpkuEtShwx3SeqQ4S5JHTLcJalDhrskdchwl6QOGe6S1CHDXZI6ZLhLUocMd0nqkOEuSR0y3CWpQ4a7JHXIcJekDhnuktQhw12SOmS4S1KHDHdJ6pDhLkkdMtwlqUOGuyR1yHCXpA4Z7pLUIcNdkjpkuEtShwx3SeqQ4S5JHTLcJalDhrskdchwl6QOGe6S1KFJwz3J+Uk2J/nBmLYDklyZ5I72uH9rT5JzkmxIcnOSo0dZvCRpfMNcuV8AHL9d2xnAVVW1FLiqrQOcACxtX6uBc2emTEnSrpg03Kvqa8CD2zWvANa25bXAyWPaL6yB64D9khw6U8VKkoYz1Tn3Q6rqPoD2eHBrXwTcO6bfxta2gySrk6xPsn7Lli1TLEOSNJ6ZfkI147TVeB2rak1VLauqZQsXLpzhMiRp9zbVcL9/23RLe9zc2jcCh43ptxjYNPXyJElTMdVwXwesbMsrgcvGtL+5vWrmWGDrtukbSdLsWTBZhySfBY4DDkqyEfgb4EzgkiSrgHuAU1v3K4ATgQ3AI8BbR1CzJGkSk4Z7Vb1xgk3Lx+lbwOnTLUqSND2+Q1WSOmS4S1KHDHdJ6pDhLkkdMtwlqUOGuyR1yHCXpA4Z7pLUIcNdkjpkuEtShwx3SeqQ4S5JHTLcJalDhrskdchwl6QOGe6S1CHDXZI6ZLhLUocMd0nqkOEuSR0y3CWpQ4a7JHXIcJekDhnuktQhw12SOmS4S1KHDHdJ6pDhLkkdWjDXBUzXkjO+PGfnvvvMk+bs3JK0M165S1KHDHdJ6pDhLkkdMtwlqUMjCfckxye5PcmGJGeM4hySpInNeLgn2RP4GHACcATwxiRHzPR5JEkTG8WV+zHAhqq6s6p+AVwErBjBeSRJExjF69wXAfeOWd8IvHT7TklWA6vb6s+S3D7F8x0EPDDFfaclZ83FWYE5HPMccsy7h91uzDlrWmN+zkQbRhHuGaetdmioWgOsmfbJkvVVtWy6x5lPHPPuwTHvHkY15lFMy2wEDhuzvhjYNILzSJImMIpw/y6wNMlzk+wFnAasG8F5JEkTmPFpmap6LMk7gf8A9gTOr6pbZ/o8Y0x7amcecsy7B8e8exjJmFO1w3S4JGme8x2qktQhw12SOjRvwn2yWxok2TvJxW379UmWzH6VM2uIMb8vyQ+T3JzkqiQTvuZ1vhj21hVJTklSSeb9y+aGGXOSP2zf61uTfGa2a5xpQ/xsH57kmiQ3tp/vE+eizpmS5Pwkm5P8YILtSXJO+/e4OcnR0z5pVT3pvxg8Mfsj4HnAXsD3gSO26/NnwMfb8mnAxXNd9yyM+VXAb7Xld+wOY279ngF8DbgOWDbXdc/C93kpcCOwf1s/eK7rnoUxrwHe0ZaPAO6e67qnOeZXAEcDP5hg+4nAvzN4n9CxwPXTPed8uXIf5pYGK4C1bflzwPIk472har6YdMxVdU1VPdJWr2PwnoL5bNhbV/w98A/Ao7NZ3IgMM+a3AR+rqocAqmrzLNc404YZcwHPbMv7Ms/fK1NVXwMe3EmXFcCFNXAdsF+SQ6dzzvkS7uPd0mDRRH2q6jFgK3DgrFQ3GsOMeaxVDH7zz2eTjjnJUcBhVXX5bBY2QsN8n18AvCDJN5Ncl+T4WatuNIYZ898Cb0qyEbgCeNfslDZndvX/+6Tmy2eoDnNLg6FuezCPDD2eJG8ClgGvHGlFo7fTMSfZAzgbeMtsFTQLhvk+L2AwNXMcg7/Ovp7kRVX18IhrG5VhxvxG4IKq+sckLwM+3cb8q9GXNydmPL/my5X7MLc0+HWfJAsY/Cm3sz+DnuyGuo1DktcAHwReX1U/n6XaRmWyMT8DeBFwbZK7GcxNrpvnT6oO+7N9WVX9sqruAm5nEPbz1TBjXgVcAlBV3wb2YXBTsV7N+G1b5ku4D3NLg3XAyrZ8CnB1tWcq5qlJx9ymKD7BINjn+zwsTDLmqtpaVQdV1ZKqWsLgeYbXV9X6uSl3Rgzzs/0lBk+ek+QgBtM0d85qlTNrmDHfAywHSPJCBuG+ZVarnF3rgDe3V80cC2ytqvumdcS5fhZ5F55tPhH4bwbPsn+wtX2IwX9uGHzzLwU2AN8BnjfXNc/CmP8TuB+4qX2tm+uaRz3m7fpeyzx/tcyQ3+cAHwV+CNwCnDbXNc/CmI8AvsnglTQ3Aa+d65qnOd7PAvcBv2Rwlb4KeDvw9jHf44+1f49bZuLn2tsPSFKH5su0jCRpFxjuktQhw12SOmS4S1KHDHdJ6pDhLkkdMtwlqUP/D+G31gAZ6/0xAAAAAElFTkSuQmCC\n",
>>>>>>> 5923c7c85b11a1b958a8f5809e2a0e993a24a5ae
      "text/plain": [
       "<Figure size 432x288 with 1 Axes>"
      ]
     },
     "metadata": {
      "needs_background": "light"
     },
     "output_type": "display_data"
    },
    {
     "data": {
<<<<<<< HEAD
      "image/png": "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\n",
=======
      "image/png": "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\n",
>>>>>>> 5923c7c85b11a1b958a8f5809e2a0e993a24a5ae
      "text/plain": [
       "<Figure size 432x288 with 1 Axes>"
      ]
     },
     "metadata": {
      "needs_background": "light"
     },
     "output_type": "display_data"
    },
    {
     "data": {
<<<<<<< HEAD
      "image/png": "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\n",
=======
      "image/png": "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\n",
>>>>>>> 5923c7c85b11a1b958a8f5809e2a0e993a24a5ae
      "text/plain": [
       "<Figure size 432x288 with 1 Axes>"
      ]
     },
     "metadata": {
      "needs_background": "light"
     },
     "output_type": "display_data"
    },
    {
     "data": {
<<<<<<< HEAD
      "image/png": "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\n",
=======
      "image/png": "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\n",
>>>>>>> 5923c7c85b11a1b958a8f5809e2a0e993a24a5ae
      "text/plain": [
       "<Figure size 432x288 with 1 Axes>"
      ]
     },
     "metadata": {
      "needs_background": "light"
     },
     "output_type": "display_data"
    },
    {
     "data": {
<<<<<<< HEAD
      "image/png": "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\n",
=======
      "image/png": "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\n",
>>>>>>> 5923c7c85b11a1b958a8f5809e2a0e993a24a5ae
      "text/plain": [
       "<Figure size 432x288 with 1 Axes>"
      ]
     },
     "metadata": {
      "needs_background": "light"
     },
     "output_type": "display_data"
    },
    {
     "data": {
<<<<<<< HEAD
      "image/png": "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\n",
=======
      "image/png": "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\n",
>>>>>>> 5923c7c85b11a1b958a8f5809e2a0e993a24a5ae
      "text/plain": [
       "<Figure size 432x288 with 1 Axes>"
      ]
     },
     "metadata": {
      "needs_background": "light"
     },
     "output_type": "display_data"
    }
   ],
   "source": [
    "# plotting histogram for each column to see which columns I can use\n",
    "for i in list(df.columns):\n",
    "    plt.hist(df[i])\n",
    "    plt.title(i)\n",
    "    plt.show()"
   ]
  },
  {
   "cell_type": "markdown",
   "metadata": {},
   "source": [
    "- For exprior, yearsworked, yearsrank and market the data is distributed to the right. This means that most of that data in the sample set sits in the right side. \n",
    "\n",
    "- From this we can interpret that: \n",
    "- most of the people in the sample set earn salaries low salaries\n",
    "- most of the people in the sample set do not have much experience prior to their current careers.\n",
    "- most of the people in the sample set aren't in their careers very long\n",
    "- most of the people in the sample set have a market value below the median. This also means that most of the people earn a salary below the market value.\n",
    "\n",
    "- We can also see that almost everyone has a degree. Less than 50 people don't have degrees\n",
    "- Most participants do not have any other post-secondary qualification. Less than 50 people have\n",
    "- Most participants are in executive positions\n",
    "- Most of the participants are men\n",
    "- Most of the participants are in marketing. Engineering, Finance and HR have the same amount of participants.\n",
    "- Almost everyone has been absent from work 10 years or less. Very few people have surpassed that amount of time."
   ]
  },
  {
   "cell_type": "code",
   "execution_count": 9,
   "metadata": {},
   "outputs": [
    {
     "data": {
      "text/html": [
       "<div>\n",
       "<style scoped>\n",
       "    .dataframe tbody tr th:only-of-type {\n",
       "        vertical-align: middle;\n",
       "    }\n",
       "\n",
       "    .dataframe tbody tr th {\n",
       "        vertical-align: top;\n",
       "    }\n",
       "\n",
       "    .dataframe thead th {\n",
       "        text-align: right;\n",
       "    }\n",
       "</style>\n",
       "<table border=\"1\" class=\"dataframe\">\n",
       "  <thead>\n",
       "    <tr style=\"text-align: right;\">\n",
       "      <th></th>\n",
       "      <th>salary</th>\n",
       "      <th>exprior</th>\n",
       "      <th>yearsworked</th>\n",
       "      <th>yearsrank</th>\n",
       "      <th>market</th>\n",
       "      <th>degree</th>\n",
       "      <th>otherqual</th>\n",
       "      <th>position</th>\n",
       "      <th>male</th>\n",
       "      <th>Field</th>\n",
       "      <th>yearsabs</th>\n",
       "    </tr>\n",
       "  </thead>\n",
       "  <tbody>\n",
       "    <tr>\n",
<<<<<<< HEAD
       "      <td>salary</td>\n",
=======
       "      <th>salary</th>\n",
>>>>>>> 5923c7c85b11a1b958a8f5809e2a0e993a24a5ae
       "      <td>1.000000</td>\n",
       "      <td>0.119989</td>\n",
       "      <td>0.623589</td>\n",
       "      <td>0.610706</td>\n",
       "      <td>0.407214</td>\n",
       "      <td>0.044554</td>\n",
       "      <td>0.167137</td>\n",
       "      <td>0.702122</td>\n",
       "      <td>0.361564</td>\n",
       "      <td>-0.499316</td>\n",
       "      <td>-0.069630</td>\n",
       "    </tr>\n",
       "    <tr>\n",
<<<<<<< HEAD
       "      <td>exprior</td>\n",
=======
       "      <th>exprior</th>\n",
>>>>>>> 5923c7c85b11a1b958a8f5809e2a0e993a24a5ae
       "      <td>0.119989</td>\n",
       "      <td>1.000000</td>\n",
       "      <td>-0.245788</td>\n",
       "      <td>-0.065893</td>\n",
       "      <td>-0.035202</td>\n",
       "      <td>-0.049165</td>\n",
       "      <td>0.264655</td>\n",
       "      <td>0.118031</td>\n",
       "      <td>0.047276</td>\n",
       "      <td>-0.046854</td>\n",
       "      <td>0.132022</td>\n",
       "    </tr>\n",
       "    <tr>\n",
<<<<<<< HEAD
       "      <td>yearsworked</td>\n",
=======
       "      <th>yearsworked</th>\n",
>>>>>>> 5923c7c85b11a1b958a8f5809e2a0e993a24a5ae
       "      <td>0.623589</td>\n",
       "      <td>-0.245788</td>\n",
       "      <td>1.000000</td>\n",
       "      <td>0.813456</td>\n",
       "      <td>-0.070740</td>\n",
       "      <td>0.028122</td>\n",
       "      <td>-0.040157</td>\n",
       "      <td>0.746311</td>\n",
       "      <td>0.278286</td>\n",
       "      <td>-0.264208</td>\n",
       "      <td>0.056113</td>\n",
       "    </tr>\n",
       "    <tr>\n",
<<<<<<< HEAD
       "      <td>yearsrank</td>\n",
=======
       "      <th>yearsrank</th>\n",
>>>>>>> 5923c7c85b11a1b958a8f5809e2a0e993a24a5ae
       "      <td>0.610706</td>\n",
       "      <td>-0.065893</td>\n",
       "      <td>0.813456</td>\n",
       "      <td>1.000000</td>\n",
       "      <td>-0.026869</td>\n",
       "      <td>0.006347</td>\n",
       "      <td>0.007232</td>\n",
       "      <td>0.484891</td>\n",
       "      <td>0.237397</td>\n",
       "      <td>-0.265620</td>\n",
       "      <td>0.035962</td>\n",
       "    </tr>\n",
       "    <tr>\n",
<<<<<<< HEAD
       "      <td>market</td>\n",
=======
       "      <th>market</th>\n",
>>>>>>> 5923c7c85b11a1b958a8f5809e2a0e993a24a5ae
       "      <td>0.407214</td>\n",
       "      <td>-0.035202</td>\n",
       "      <td>-0.070740</td>\n",
       "      <td>-0.026869</td>\n",
       "      <td>1.000000</td>\n",
       "      <td>0.036456</td>\n",
       "      <td>0.021641</td>\n",
       "      <td>-0.013116</td>\n",
       "      <td>0.181401</td>\n",
       "      <td>-0.223887</td>\n",
       "      <td>-0.167177</td>\n",
       "    </tr>\n",
       "    <tr>\n",
<<<<<<< HEAD
       "      <td>degree</td>\n",
=======
       "      <th>degree</th>\n",
>>>>>>> 5923c7c85b11a1b958a8f5809e2a0e993a24a5ae
       "      <td>0.044554</td>\n",
       "      <td>-0.049165</td>\n",
       "      <td>0.028122</td>\n",
       "      <td>0.006347</td>\n",
       "      <td>0.036456</td>\n",
       "      <td>1.000000</td>\n",
       "      <td>-0.214654</td>\n",
       "      <td>0.043335</td>\n",
       "      <td>0.061419</td>\n",
       "      <td>-0.099077</td>\n",
       "      <td>0.029447</td>\n",
       "    </tr>\n",
       "    <tr>\n",
<<<<<<< HEAD
       "      <td>otherqual</td>\n",
=======
       "      <th>otherqual</th>\n",
>>>>>>> 5923c7c85b11a1b958a8f5809e2a0e993a24a5ae
       "      <td>0.167137</td>\n",
       "      <td>0.264655</td>\n",
       "      <td>-0.040157</td>\n",
       "      <td>0.007232</td>\n",
       "      <td>0.021641</td>\n",
       "      <td>-0.214654</td>\n",
       "      <td>1.000000</td>\n",
       "      <td>0.160941</td>\n",
       "      <td>0.016082</td>\n",
       "      <td>-0.076202</td>\n",
       "      <td>-0.017792</td>\n",
       "    </tr>\n",
       "    <tr>\n",
<<<<<<< HEAD
       "      <td>position</td>\n",
=======
       "      <th>position</th>\n",
>>>>>>> 5923c7c85b11a1b958a8f5809e2a0e993a24a5ae
       "      <td>0.702122</td>\n",
       "      <td>0.118031</td>\n",
       "      <td>0.746311</td>\n",
       "      <td>0.484891</td>\n",
       "      <td>-0.013116</td>\n",
       "      <td>0.043335</td>\n",
       "      <td>0.160941</td>\n",
       "      <td>1.000000</td>\n",
       "      <td>0.317390</td>\n",
       "      <td>-0.292313</td>\n",
       "      <td>0.030521</td>\n",
       "    </tr>\n",
       "    <tr>\n",
<<<<<<< HEAD
       "      <td>male</td>\n",
=======
       "      <th>male</th>\n",
>>>>>>> 5923c7c85b11a1b958a8f5809e2a0e993a24a5ae
       "      <td>0.361564</td>\n",
       "      <td>0.047276</td>\n",
       "      <td>0.278286</td>\n",
       "      <td>0.237397</td>\n",
       "      <td>0.181401</td>\n",
       "      <td>0.061419</td>\n",
       "      <td>0.016082</td>\n",
       "      <td>0.317390</td>\n",
       "      <td>1.000000</td>\n",
       "      <td>-0.130599</td>\n",
       "      <td>-0.622058</td>\n",
       "    </tr>\n",
       "    <tr>\n",
<<<<<<< HEAD
       "      <td>Field</td>\n",
=======
       "      <th>Field</th>\n",
>>>>>>> 5923c7c85b11a1b958a8f5809e2a0e993a24a5ae
       "      <td>-0.499316</td>\n",
       "      <td>-0.046854</td>\n",
       "      <td>-0.264208</td>\n",
       "      <td>-0.265620</td>\n",
       "      <td>-0.223887</td>\n",
       "      <td>-0.099077</td>\n",
       "      <td>-0.076202</td>\n",
       "      <td>-0.292313</td>\n",
       "      <td>-0.130599</td>\n",
       "      <td>1.000000</td>\n",
       "      <td>0.000778</td>\n",
       "    </tr>\n",
       "    <tr>\n",
<<<<<<< HEAD
       "      <td>yearsabs</td>\n",
=======
       "      <th>yearsabs</th>\n",
>>>>>>> 5923c7c85b11a1b958a8f5809e2a0e993a24a5ae
       "      <td>-0.069630</td>\n",
       "      <td>0.132022</td>\n",
       "      <td>0.056113</td>\n",
       "      <td>0.035962</td>\n",
       "      <td>-0.167177</td>\n",
       "      <td>0.029447</td>\n",
       "      <td>-0.017792</td>\n",
       "      <td>0.030521</td>\n",
       "      <td>-0.622058</td>\n",
       "      <td>0.000778</td>\n",
       "      <td>1.000000</td>\n",
       "    </tr>\n",
       "  </tbody>\n",
       "</table>\n",
       "</div>"
      ],
      "text/plain": [
       "               salary   exprior  yearsworked  yearsrank    market    degree  \\\n",
       "salary       1.000000  0.119989     0.623589   0.610706  0.407214  0.044554   \n",
       "exprior      0.119989  1.000000    -0.245788  -0.065893 -0.035202 -0.049165   \n",
       "yearsworked  0.623589 -0.245788     1.000000   0.813456 -0.070740  0.028122   \n",
       "yearsrank    0.610706 -0.065893     0.813456   1.000000 -0.026869  0.006347   \n",
       "market       0.407214 -0.035202    -0.070740  -0.026869  1.000000  0.036456   \n",
       "degree       0.044554 -0.049165     0.028122   0.006347  0.036456  1.000000   \n",
       "otherqual    0.167137  0.264655    -0.040157   0.007232  0.021641 -0.214654   \n",
       "position     0.702122  0.118031     0.746311   0.484891 -0.013116  0.043335   \n",
       "male         0.361564  0.047276     0.278286   0.237397  0.181401  0.061419   \n",
       "Field       -0.499316 -0.046854    -0.264208  -0.265620 -0.223887 -0.099077   \n",
       "yearsabs    -0.069630  0.132022     0.056113   0.035962 -0.167177  0.029447   \n",
       "\n",
       "             otherqual  position      male     Field  yearsabs  \n",
       "salary        0.167137  0.702122  0.361564 -0.499316 -0.069630  \n",
       "exprior       0.264655  0.118031  0.047276 -0.046854  0.132022  \n",
       "yearsworked  -0.040157  0.746311  0.278286 -0.264208  0.056113  \n",
       "yearsrank     0.007232  0.484891  0.237397 -0.265620  0.035962  \n",
       "market        0.021641 -0.013116  0.181401 -0.223887 -0.167177  \n",
       "degree       -0.214654  0.043335  0.061419 -0.099077  0.029447  \n",
       "otherqual     1.000000  0.160941  0.016082 -0.076202 -0.017792  \n",
       "position      0.160941  1.000000  0.317390 -0.292313  0.030521  \n",
       "male          0.016082  0.317390  1.000000 -0.130599 -0.622058  \n",
       "Field        -0.076202 -0.292313 -0.130599  1.000000  0.000778  \n",
       "yearsabs     -0.017792  0.030521 -0.622058  0.000778  1.000000  "
      ]
     },
     "execution_count": 9,
     "metadata": {},
     "output_type": "execute_result"
    }
   ],
   "source": [
    "df.corr()"
   ]
  },
  {
   "cell_type": "markdown",
   "metadata": {},
   "source": [
    "- After examining the correlation between all the columns, I can conclude that yearsworked, yearsrank and position are columns I could use to model. However, since the position column contains categorical data I cannot use it to build a model."
   ]
  },
  {
   "cell_type": "code",
   "execution_count": 10,
   "metadata": {},
   "outputs": [
    {
     "data": {
      "text/plain": [
       "Text(0, 0.5, 'Salary')"
      ]
     },
     "execution_count": 10,
     "metadata": {},
     "output_type": "execute_result"
    },
    {
     "data": {
<<<<<<< HEAD
      "image/png": "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\n",
=======
      "image/png": "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\n",
>>>>>>> 5923c7c85b11a1b958a8f5809e2a0e993a24a5ae
      "text/plain": [
       "<Figure size 432x288 with 1 Axes>"
      ]
     },
     "metadata": {
      "needs_background": "light"
     },
     "output_type": "display_data"
    }
   ],
   "source": [
    "#plot graph to understand relationship between years worked and salary. Also looking to to see if there are any outliers\n",
    "plt.scatter(df['yearsworked'],df['salary'])\n",
    "plt.title('Salary per Number of Years Worked')\n",
    "plt.xlabel('Years worked')\n",
    "plt.ylabel('Salary')"
   ]
  },
  {
   "cell_type": "code",
   "execution_count": 11,
   "metadata": {},
   "outputs": [
    {
     "data": {
      "text/plain": [
<<<<<<< HEAD
       "(0.6235888657598048, 1.2873351342916404e-56)"
=======
       "(0.6235888657598045, 1.2873351342921916e-56)"
>>>>>>> 5923c7c85b11a1b958a8f5809e2a0e993a24a5ae
      ]
     },
     "execution_count": 11,
     "metadata": {},
     "output_type": "execute_result"
    }
   ],
   "source": [
    "pearsonr(df['yearsworked'],df['salary'])"
   ]
  },
  {
   "cell_type": "markdown",
   "metadata": {},
   "source": [
    "- There is a moderate, positive correlation. The p-value is low meaning that the correlation is statistically significant.\n",
    "- The data is appropriate for linear regression."
   ]
  },
  {
   "cell_type": "markdown",
   "metadata": {},
   "source": [
    "### Spliting model into training and testing set"
   ]
  },
  {
   "cell_type": "code",
   "execution_count": 12,
   "metadata": {},
   "outputs": [],
   "source": [
<<<<<<< HEAD
    "x1 = df[['yearsworked']]"
=======
    "x = df[['yearsworked']]"
>>>>>>> 5923c7c85b11a1b958a8f5809e2a0e993a24a5ae
   ]
  },
  {
   "cell_type": "code",
   "execution_count": 13,
   "metadata": {},
   "outputs": [],
   "source": [
<<<<<<< HEAD
    "x = sm.add_constant(x1.values)"
=======
    "x = sm.add_constant(x.values)"
>>>>>>> 5923c7c85b11a1b958a8f5809e2a0e993a24a5ae
   ]
  },
  {
   "cell_type": "code",
   "execution_count": 14,
   "metadata": {},
   "outputs": [],
   "source": [
    "y = df['salary']"
   ]
  },
  {
   "cell_type": "code",
   "execution_count": 15,
   "metadata": {},
   "outputs": [],
   "source": [
<<<<<<< HEAD
    "x_train, x_test, y_train, y_test = train_test_split(x, y, test_size=0.3, random_state=101)"
=======
    "x_train, x_test, y_train, y_test = train_test_split(x, y, test_size=0.2, random_state=101)"
>>>>>>> 5923c7c85b11a1b958a8f5809e2a0e993a24a5ae
   ]
  },
  {
   "cell_type": "code",
   "execution_count": 16,
   "metadata": {},
   "outputs": [
    {
     "data": {
      "text/plain": [
       "False"
      ]
     },
     "execution_count": 16,
     "metadata": {},
     "output_type": "execute_result"
    }
   ],
   "source": [
    "#checking to see if training set has any null values\n",
    "np.any(np.isnan(x_train))"
   ]
  },
  {
   "cell_type": "code",
   "execution_count": 17,
   "metadata": {},
   "outputs": [
    {
     "data": {
      "text/plain": [
       "False"
      ]
     },
     "execution_count": 17,
     "metadata": {},
     "output_type": "execute_result"
    }
   ],
   "source": [
    "#checking to see if training set has any null values\n",
    "y_train.isnull().values.any()"
   ]
  },
  {
   "cell_type": "markdown",
   "metadata": {},
   "source": [
<<<<<<< HEAD
    "### Modelling with a constant\n"
=======
    "### Modelling"
>>>>>>> 5923c7c85b11a1b958a8f5809e2a0e993a24a5ae
   ]
  },
  {
   "cell_type": "code",
   "execution_count": 18,
   "metadata": {},
   "outputs": [],
   "source": [
    "model = sm.OLS(y_train,x_train).fit()"
   ]
  },
  {
   "cell_type": "code",
   "execution_count": 19,
   "metadata": {},
   "outputs": [],
   "source": [
    "predictions = model.predict(x_test) "
   ]
  },
  {
   "cell_type": "code",
   "execution_count": 20,
   "metadata": {},
   "outputs": [
    {
     "data": {
      "text/plain": [
       "Text(0, 0.5, 'Y - Predicted')"
      ]
     },
     "execution_count": 20,
     "metadata": {},
     "output_type": "execute_result"
    },
    {
     "data": {
<<<<<<< HEAD
      "image/png": "iVBORw0KGgoAAAANSUhEUgAAAZIAAAEGCAYAAABPdROvAAAABHNCSVQICAgIfAhkiAAAAAlwSFlzAAALEgAACxIB0t1+/AAAADh0RVh0U29mdHdhcmUAbWF0cGxvdGxpYiB2ZXJzaW9uMy4xLjEsIGh0dHA6Ly9tYXRwbG90bGliLm9yZy8QZhcZAAAgAElEQVR4nOy9eZxcVZ33/z63lq7qfcme7k4TCIRNIAlZNUZwAR3FXaIsiY4wiw4zPuOMzqOOP5x5vfR5ZvSB0XHIKCEoEhBlyCiIKEYYsgcIEAgkhO50Z+uk96697v3+/ri3KtXd1dVV3VXV23m/Xnl116lzzzn33k59657Pd1Eigkaj0Wg0o8UY7wVoNBqNZnKjDYlGo9FoxoQ2JBqNRqMZE9qQaDQajWZMaEOi0Wg0mjHhHu8FFJsZM2ZIU1PTeC9Do9FoJhX79+8/KyIz07037QxJU1MT+/btG+9laDQazaRCKdUy3Ht6a0uj0Wg0Y0IbEo1Go9GMCW1INBqNRjMmtCHRaDQazZgomCFRSl2klHox5V+vUuqvlVK1SqmnlFKHnZ81Tn+llLpbKXVEKfWSUmpJyli3Ov0PK6VuTWlfqpR62TnmbqWUKtT5aDQajSY9BTMkIvK6iFwpIlcCS4Eg8CjwFeD3IrII+L3zGuB6YJHz7zbghwBKqVrgH4EVwHLgHxPGx+lzW8px1xXqfDQajUaTnmJtbV0LvCkiLcANwBanfQvwYef3G4D7xWYXUK2Umgu8D3hKRDpFpAt4CrjOea9SRHaKncL4/pSxNBqNRlMkimVIbgQedH6fLSInAZyfs5z2+UBryjFtTlum9rY07RqNRqMpIgU3JEopL/Ah4OcjdU3TJqNoT7eG25RS+5RS+86cOTPCMjQajUaTIBI3CUTiGfsU44nkeuB5ETntvD7tbEvh/Gx32tuAhpTj6oETI7TXp2kfgohsEpFlIrJs5sy0Ef4ajUajSSFuWrT3hTneFSIatzL2LYYhWc+5bS2AbUDC8+pW4LGU9lsc762VQI+z9fUk8F6lVI0jsr8XeNJ5r08ptdLx1rolZSyNRqPRjAIRoTsYpa0rRH8485NIgoLm2lJKlQLvAW5Paf428LBS6nPAMeATTvvjwPuBI9geXhsBRKRTKfUtYK/T704R6XR+/3PgPsAPPOH802g0Gs0o6I/E6QpEiZmZn0AGo6ZbzfZly5aJTtqo0Wg054jETTr6o4RjZtr3a0q91JaX7BeRZenen3bZfzUajUZjY1pCZyBKXzg2pnG0IdFoNJpphojQG4rTFYxi5WFXShsSjUajmUYEo3E6+nPXQTKhDYlGo9FMA6Jxi85AlGA0O0+sXNCGRKPRaKYwliV0BaP0huMUyrlKGxKNRsP2Q+3c88xRWruCNNSUcvvahaxbPGvkAzUTmr5wjK5AjLiVv22sdOh6JBrNNGf7oXa+se0g7X1hqv0e2vvCfGPbQbYfah/5YM2EJBwzOd4d4kxfpOBGBLQh0WimPfc8cxSPS1HqdaOU/dPjUtzzzNHxXpomRxJpTU50h4gMExNSCPTWlkYzzWntClLt9wxo83tctHUFx2lFmlwREXpCMbqDsby48+aKfiLRaKY5DTWlhAZ9ew3FTOprSsdpRZpcCEbjtHWF6AzkJyZkNGhDotFMc25fu5CYKQSjtldPMBonZgq3r1043kvTZCAatzjVE+ZUTzivMSGjQW9taTTTnHWLZ3EntlbS1hWkXnttTWiK4c6bK9qQaDQa1i2epQ3HJKBY7ry5og2JRqPRTHDCMZOOQLSonlgJ2rqC/MuTr2fsow2JRqPRTFDylZ13NJzsCfGTncf47aunsEbYQdOGRKPRaCYY+c7OmwvtvWEe2H2Mx185helYkHnVPloyHKMNiUaj0UwgQlGTs/2RontidfRH+NmeVn710glipm1AZpaXcNPKRtYvb2T2V4c/VhsSjUajmQDETDs7byCS/+y8megORnlwTyuPHThBNG4br9oyL59e3sCfvG0eXreBx5U5UkQbEo1GoxlHRISuYIyeUKyo7ry9oRgP72vlly8cJxyzDUiV38P65Q186Ip5+DyurMfShkSj0WjGif5InM7+aFHdefsjcR7Z38Yv9rcRiNpeYBU+N59cVs9Hr6rH783egCTQhkSj0WiKTCRu0tEfJVxEd95Q1OSXL7Tx8L42+sL29lmZ18XHl9bzsaX1lJeM3hxoQ6LRaDRFYjzcecMxk8dePMHWva30hOx5fR6Djy2p5xNL66kclLBzNGhDotFoNEXAzs4bTbrUFppo3OJXL53gZ3ta6QxEAfC6DT585TxuvLqB6lJv3ubShkSj0WgKSChq0hGIJD2iCk3MtHjilVM8sOsYZ/ojAHhcig++bR7rlzdQV16S9zm1IdFoNJoCEHfcefuL5M5rWsJvD57iJ7uOcao3DIDLULz/sjl8ZkUjsyp9BZu7oIZEKVUN/Ai4DBDgs8D7gM8DZ5xu/yAijzv9vwp8DjCBvxKRJ53264C7ABfwIxH5ttN+HrAVqAWeB24WkWghz0mj0WgyISJ0B2N0F8md17SEP7zezv07W2jrCgFgKHjvJXO4eVUjc6v8BV9DoZ9I7gJ+IyIfV0p5gVJsQ/I9EfmX1I5KqUuAG4FLgXnA75RSFzpv/wB4D9AG7FVKbRORV4HvOGNtVUr9B7YR+mGBz0mj0WjSEojE6QxEixKVbonwzBtn2bKjmZZOu5qlAq69eBa3rFpQ1MJkBTMkSqlKYC2wAcB5UogqpYY75AZgq4hEgLeUUkeA5c57R0TkqDPuVuAGpdRrwDXAp50+W4Bvog2JRqMpMtG4RUcgQihaeHdeEWHHmx1s3tHM0TOBZPs7L5zJrasX0FRXVvA1DKaQTyQLsbevNiulrgD2A3c4731BKXULsA/4XyLSBcwHdqUc3+a0AbQOal8B1AHdIhJP038ASqnbgNsAGhsbx3haGo1GY2NZQmcwSl8RikyJCHuaO7nvuRZeP92XbF9zfh0bVjdx/qzygs6fiUIaEjewBPiiiOxWSt0FfAX4PvAtbM3kW8C/Ymsn6R5VhPTlgCVD/6GNIpuATQDLli2bGCXFNBrNpKY3HKMrUHh3XhHhhWPd3PtcM6+e7E22Lz+vlo2rm7hoTkVB58+GQhqSNqBNRHY7rx8BviIipxMdlFL/CfwqpX9DyvH1wAnn93TtZ4FqpZTbeSpJ7a/RaDQFoZhFpg60dbP5uWZeautJti1prGbjmiYunVdV8PmzpWCGREROKaValVIXicjrwLXAq0qpuSJy0un2EeAV5/dtwM+UUt/FFtsXAXuwnzwWOR5ax7EF+U+LiCil/gB8HNtz61bgsUKdj0ajGZm7f/cGP/qftwhETcq8Lv707efxV+++cOQDx5nth9q555mjtHYFaRimZn3ctOgMRukPF96d99UTvWx+7i32H+tOtl0+v4rPrmniiobqgs+fK4X22voi8IDjsXUU2AjcrZS6Ensbqhm4HUBEDiqlHgZeBeLAX4qICaCU+gLwJLb7770ictAZ/++BrUqpfwJeAH5c4PPRaDTDcPfv3uCup49gKHAbEIqZ3PX0EYAJbUy2H2rnG9sO4nEpqv0e2vvCfGPbQe7ErmUvIk5UeqzgRabeON3HfTua2XW0M9l28dwKNq5uYumCGjI4K40rqphpiycCy5Ytk3379o33MjSaKcfbvvkkoZiJ2zgna8YtC7/HxUvffN84riwz6zftor0vTKn33PfqYDTOrAofP96wjI7+wrvzHj3Tz307WvifI2eTbYtmlbNxTRMrzqsdNwNiKEW5z02134PH7dovIsvS9dOR7RqNJi8EoibuQa4xhiKZqnyi0toVpHpQ4sISt0FzR4BTPeGCzn2sI8iWnc1sf/1M0lNo4Ywybl3dxNsvqBs3A+I2DCr9bip9Hgxj5DVoQ6LRaPJCmddFKGaS+rljid0+kWmoKU0+kYgIpiX0R+LMrihcSpHjXSHu39XC7187TcLpq7G2lA2rF7D2wpkY42RAvG6DKr+H8hJ3TkZMGxKNZgqQjVhcaP707edx19NHiFsWhrKNiCV2eyEZ67nfvnYh39h2kP5wDI/LIBQziVvCjVc3sOdoJ1v3tnKyN8TcSj83Xt3A8oW1I4453HGnesP8dGcLvzl4KmlA5lX7uGVVE9cunoUri2//haDU66bK7xlVUSvQGolGM+lJFYv9HvupIGYKd37o0qIbk2J7beXj3MMxk18fOOEkOwwxx/ngB7jr6cO4DYXPYxCOWcQt4Y5rFmU0JnuOdg45LhK3OG9GGftbuog7FmR2ZQk3r1zAey+ZjXuEmuiFQClFeYltQLyD9yTT9x9WI9GGRKOZ5GQSix+8beU4rqzwjOXcR3Ln/dJDB+gIRPCn1C4PxUzqykr47qeuGHbc1OPsOewEjglmlHv5zIoFvP/yOXjGwYAk9I8KnyenJ6BMhkRvbWk0k5x0YrHf46KtKzhOKyoeozl3y3LceUfIznuyN0Slb+BHpM9jcKo3lHFNJ3tDlHldnOmP0B2MJUV0Q8GfrzufD75tXlZPAPlmtPpHNmhDotFMclLF4gShmFnU7K/jRa7n3heO0RWIEbdGduedW+kf8kQSjlnMqRw+LXtfOAYCb50NDjAgFT43C2rK+NiS+uxOLI+UOdtXPk/hnB6KbxY1Gk1euX3tQmKmEIzaiQOD0Ti9oRhdgQhv/87TrN+0i+2H2nMed/uhdtZv2jWmMQpNunOPmcLtaxcO6BeOmbR1BTnTF8nKiADceHUDcUsIxUwEGSDCDyYQiXP/zmY+/aPdnO6L2MkAFdSVeZhb5aPU6+bTK4qXMNZQiiq/h4baUmZX+gpqREBrJBrNlCDhudTWFaS8xM2Z/ojthTNKAXoiCfgjkXru9YO8tmJOlcLAKKsUJryvUkX4VKE9FDN59PnjPLyvlV5Hayn1uli1sI723ghn+sNpjysUHpdBpd9DRYk7q/iPXNBiewrakGimOvkQ3ye7gG9ZQncoRk+BqhRGYibbDpzgwT2tSSHd5zb4yJL5fHJZA1WDdJtCU+JxUe33UFZSOLVCi+0azTQiH+L7ZBbwc9FBciUat/j1yyf52e5jdATsqt5et8ENV8zjxuUN1JR68z5nJspL3FQWWP/IBm1INJopRj7E98ko4BcyvXvctPjNwdP8dFcL7X0RADwuxQcun8unVzQyo7wk73MORyL/VZXfMy7uw+nQhkSjmSIktILD7X30hePUlHqYUV6S1DcGC9CZSER7B6PxARpJLmMUi7ijg/SPUgfJhGkJv3vtNPfvbOGkk3fLZSiuu3QON61sZHZl4dKoDCbX/FfFRBsSjWYKkCqOz6n04XFF6AzEiJsWi2ZX5pw2ZN3iWdwJw4rYE4FC6iCmJWx//QxbdjbT1mXHjRgK3nPJbG5euYB51cO7AOebQsZ/5AttSDSaKcA9zxzF41LJragZ5bbL6VjE8XWLZ00ow5FKoXQQS4RnD59ly45mmjtsPUgB71o8i1tXLaChtnhbe2PNf1VMtCHRaKYAk1kcz4VI3KSjP0o4zzqIiLDjzQ7u29HMm2cCyfa1F87g1lVNnDejLK/zDUeu+a8mCtqQaDRTgMkojueCZQmdwSi9KTmr8oGIsLe5i807mnn9VF+yfdXCOjauaeKCWeV5nW84XIai0ueh0p9b/quJgjYkGs0UYDKJ47nSF47RGYhiWvnVQV441sW9zzVz8ERvsu3qpho2rG7i4rmVeZ1rODwug6pSO4Bwouof2aANiUaTIxOh9sdgJoM4nivhmElnIP/bWC+39bB5x1u82NqTbLuqsZqNq5u4bH5VXucaDp/HRXWpZ8AT5GRmapyFRlMkUr2jqv0e2vvCfGPbQe6Ecf/QnsjieC6MlN59tLx2spf7djSzt7kr2XbZvEo2rmniqsaavM6VDqUUZV7XhAggzDfakGg0OTDYO6rU6yYYjXPPM0enxIf4eCIidAdtd14rj+68h0/3sXlHM7uOdibbFs+pYOOaJpYtqCn4lpKhFBVOAOF4FLAqBtqQaDQ5MF28o4pNIdx53zob4L4dzTx7+Gyy7YKZ5WxYs4BVC+sKbkA8LoNKn4cKX/4TKE40tCHRaHJgqntHFZtCpDU51hlky45mtr9+JlkTpKmulA1rmnj7BTMwCmxASjyuZADhdGH6nKlm0lEIUTvdmMCw86T2L/e6CERNTvSE8bgUFSUu+sImMcvCYyi2H2rP+/bWaK5Bruc4HgyX3j2Rtv1kb4i5WaRfT+1fW+rF73HxYls3CQev+ho/t65qYt1FMwvuVluMAlITlYKmkVdKVQM/Ai4DBPgs8DrwENAENAOfFJEuZT9n3gW8HwgCG0TkeWecW4GvOcP+k4hscdqXAvcBfuBx4A4Z4YR0GvnJQSHqYaQbszdkl0JNV7sDSPaPmxbHu+1cS7WlHrpDMaKm4DFgXrUft8vIe72O0VyDdMf0hGIooHIM9UnyhWUJXcEoveH4kLQme452ctfTh3EbCp/HIByziFvCHdcsSmtMEv0RIRA1k/VAAOZW+bhl1QLeffHsghqQhP5ROYESKBaKTGnkC33mdwG/EZHFwBXAa8BXgN+LyCLg985rgOuBRc6/24AfAiilaoF/BFYAy4F/VEolXCx+6PRNHHddgc9HUyRSRW2l7J8el+KeZ47mdcy+cJz+SDztPKn9z/ZHcSmFy1AEoiYel4HHpfC6XVT6vXlZXz6uQbpj+iNx+sLpz7FYiNh10lu7gsPmxtq6txW3YRtAhf3TbSi27m1NO+ZPdrXQF45xsjeSNCIupWio9rNl49W879I5BTMibsOgrqyExtpS6spLprwRGYmCbW0ppSqBtcAGABGJAlGl1A3AOqfbFmA78PfADcD9zhPFLqVUtVJqrtP3KRHpdMZ9CrhOKbUdqBSRnU77/cCHgScKdU6a4lEIUTvdmHHLGiK6JuYRSPaPmhYupUDZv4OdxC/xez7Wl816R5oj3TGmJUM+uIvpIBCKmpztjxAzMwvpJ3tDVPoGfiT5PAanekMD2joDUbbuPcbBk+cCCV2Goq7UQ4XfTSBiFsw7KqF/lHldkzqAMN8UUiNZCJwBNiulrgD2A3cAs0XkJICInFRKJZ6t5wOpXz3anLZM7W1p2oeglLoN+8mFxsbi1U3WjJ5CiNrpxnQbhp2VL4XUeRL9vS6DuGl/GHudD6moaSV/z8f6slnvSHOkO8ZlKJCBJ1kMB4Fcy9zOrfTTEYjgT9EYwjGLOZV2pt2eUIyH9rbyXy8cJxw/Z8zryrxU+T0YShGKmcn++WQ66x/ZUMjnMTewBPihiFwFBDi3jZWOdOZdRtE+tFFkk4gsE5FlM2fOzLxqzYTg9rUL6Q3FOHy6j9dO9nD4dB+9odiYUn7cvnYhMVMIRu39+WA0ToXPTXmJe0BbIrVIav8Z5V5MEUxLmFHupdLvxhKo8LmHHJcr2w+1c/3/e4aLvvYEF33tCa773h/Zfqg97XpHmiPddfMa9j5+LuOMBRGhKxClrSuUU630G69uIG4JoZiJYP+MW8INV8xj83Nv8en/3M3Wva2E4xaVPjfXXTqHmRUl+DwulCLZ/8arG/JyHkopKv0e6mtKmV3p00YkA4V8ImkD2kRkt/P6EWxDclopNdd5GpkLtKf0T/0LqAdOOO3rBrVvd9rr0/TXTBEEQNn/oVHDfEvIgXRpRL7+gUuA4VOLpPa/YGYZSin6I3Ga6spZf3UtO492jiklyfZD7Xz5kQN0BWMktvOPnAnwt48c4F8+fgV3fujSnNOeDL5uXo+Lm1cuGPNasyEYjdPRHx1xGysdyxfWcgeL2Lq3lVO9IWaW+5hT5eNff/dGsmhVWYmLTy5t4KNL5lNW4k56bZ3qDTEnCy+vbEgUkKrwTc4EiuNBob22ngX+VEReV0p9E0jkYu4QkW8rpb4C1IrI3ymlPgB8AdtrawVwt4gsd8T2/dhPNwDPA0tFpFMptRf4IrAb22vr30Tk8Uxr0l5bk4P1m3YN2aIJRuNjqq8xEVm/aRcvHOtCIBnfYFmCMuCqhpqcz3W8rlvMtOjojxKMjj2tSShm8tgLx9m6tzUpovs9Lj62dD6fWFpPhc8zwgijYzIUkBpPMnltDftEopT6aKZBReSXWcz9ReABpZQXOApsxN5Oe1gp9TngGPAJp+/j2EbkCLb770Znnk6l1LeAvU6/OxPCO/DnnHP/fQIttE8ZpksEeWtXkLhlDRCHlbIF8tGca7GvWyKtSXceqhRG4xbbDpzgwT3H6Ara6eJ9boMPXzWfTy1roKq0MAZkMhWQmqhk2tr6oPNzFrAaeNp5/S7sraURDYmIvAiks2DXpukrwF8OM869wL1p2vdhx6hophjTJYK8oaaUs30RRGwDAiBiC+SjOddiXrdAJE5nYHTbWKlE4xZPvHKSn+4+Rkd/FACPS/GhK+axfnkjtWXefCx3AJO1gNREZVhDIiIbAZRSvwIuSXhaObrGD4qzPM10ZTLX18glsvz2tQuTGoko+xu9JVBd4hnVuWZz3caaMSAat+gIRAhFx5bWJG5aPHnwND/d3cLp3ggAbkPx/svn8pkVjbx1JsA//eq1rKPcs2GyF5CaqIyokSilXhGRy1JeG8BLqW2TCa2RTB4SH3iTqb5GrtHz6xbPYvuhdr7zm0McPWuXeD2vrpSvXH/xmCL4h7tuY8kYkCkqPRdMS/j9a6e5f1cLJ5xsAYaC6y6bw00rFzCn0pdzlPtIaP1j7GTSSLIxJN/Hjhp/ENsh5EbgiIh8Md8LLQbakGgKSTqx+/DpPlCwaFZFsm28HAdGK8b3hmN0jbFKoSXC9tfPsGVHM61ddpChoeDdF8/m5pULmF9zLv7jSw8dGBJTEoqZ1JWV8N1PXZH1nKVeN9WlOv4jH4xKbE8gIl9QSn0EO0odYJOIPJrPBWo0U4Vco+eLTa5ifDhmR6VH46PXQUSEZ4+cZcuOFt5ynroUsO6imdy6qonGuqH6TbZR7unQ+kfxyTaO5HmgT0R+p5QqVUpViEhfIRem0UxGRhM9X0yyFeNjpkVXIJqM3xgNIsKuo51s3tHMkfb+ZPs7Fs3g1lULWDizfNhjR4pyT4fWP8aPEQ2JUurz2OlFaoHzsdOQ/AdpPK80mkIyFpG4WKnV04ndFT43ApzpC9MXjhOJW7gMxQ1XzBvVujNl/h2u792/e4Mf/c9b9Efitl7jc1NfUzpEjBcRupwqhaPVQUSEfS1d3LejmddOnvu+uXJhLRtXN7FodkWGo21uvLqBu54+TChmDtBI0kWte1wGVaUeKrT+kZZClGMYTDYayYvYWXd3O6lOUEq9LCKX53UlRUJrJJOTsYjEoxHAx7rWwWL3S23d/GD7m8QtixLng8/jcuWcEn64NWbq+1JbN3c9fQRD2ZpE3BJMCypKDC6bX5P8YOmPxOnsj46pSuGB1m7ufa6Zl4/3JNuWLahh45omLp5bmdNYI0Wt+712AsXUpyvNQPJZjmFMGgkQEZFowtIrpdyMPVuFRpMTY6mVnu7Y410hUDC3yp/zeCOxbvGsIWPc88xR6mv8Q0TuTPPlcs6Z+h480YOhnC02wOuCuLJQyuDB21YSjpmc6A4RHkOVwleO93DfjmaeP9adbLuyoYqNq8/j8vqqUY25fGHtEA8tpRRlJbYBKXFrAX0kxvL/JheyMSR/VEr9A+BXSr0H+Avgv/O2Ao0mC8YSsT0RBPB8pYQf7phMfQNRk8Gas6GgPxKnvS9Mf3j0Osjrp/rY/Nxb7GnuSrZdOq+SjWuaWNJYk+HI3HAZigqfh0qfu2Ap4qcixcp0kI0h+QrwOeBl4HbgcRH5z7yuQqMZgbFEbE8EATxfKeGHOyZT355QjFDMTCaFFCeLcanHNWoj8mZ7P5t3NLPjzY5k20WzK9iwZgHLm2rzplV4XAaVflv/MLSAnjPFynSQjSH5oojcBSSNh1LqDqdNowEKL+iNJdI9kwA+lsj5xDm/cbqXmCl43QaLZlWkPffRrD+XYzL1TWgkcctCIVhiR8+vXFjLlx46kFPkeHNHgC07WvjjG2eSbefPLGPD6iZWn1+XNwPiSxSQKtH6x1goVoaIbMT250VkyaC2FxLC+2RDi+35pxD11YebZ7SR7umOheHTx2cz3je2HSQaN+kI2PmhEJhR4R1WRB/N+nM5JlPf7z55iHt3NBOMmvg9LlYtrOXgyb6sI8fbuoLcv7OF37/WnhRIF9SVsmF1E+9YNCOZuXislJfY9c91AGH+yFeGiFFFtiul1gOfBt4OPJvyVgVgisi7c17JBEAbkvwzXVK+p5I451M9YeKmYBgKSwS3oZhT5Zsw5x53qhQOjgfJNnL8ZE+I+3e28NSrp0kEtdfX+Lll1QLeddGsvMRrKGUX3qrye6Z97fOJzGi9tnYAJ4EZwL+mtPcBL+VveZrJznRJ+Z5K4pyTtdyxs/dGTWtCnPtI6d1Hihxv7w3zwO5jPP7KqWRalDmVPm5etYD3XjI7LwZEBxBOHTJl/20BWpRSnwFOiEgYQCnlx65G2FyUFWomPNMl5XsqiXNO1HJXyk7/7nUZ437u2aR3Hy5yvK6shH97+gi/eukEMadG/czyEm5a2ch1l83JyxNDQkCv9OkAwqlCNn8VDwOpf5Em8PPCLEczGRlNbfHJTuKcK3xuLIS4ZWFZQqXfPW7nHonb8SCne8Mj1ggZXB+93zE+b7T38egLx4mZQl2Zly9ecwE/+dxyPnjFvDEbEb/XxZwqHw21pVT5PdqITCGycYlwi0g08cIJTsx/pRnNpCVdLfSxpi/Jh0ifa1qUXNaRes5xs5eo47XVVFc+6jQmo8W0hM5AlL5wLOtjEvXRf7rbTqQYiplJDaTa72H98gY+eMU8Xmrt4Su/eHnUNUESCRQr/W4dQDiFycZr6ynsWujbnNc3AH8lIpMy15YW2ycWhfL4yjUtClBwz7N8n6uI0BuK0xWMYuWYF6s/EueR/W38Yn8bAadAVYXPzaeWNfCRq+bj97rGVBPEbRhU+Nxa/5hCjDVFyp9h113/PnYIVytwSx7Xp5nGFCqFQ65pUYCCp5LI57kGo3E6+nMvcxuKmvzyhTYe3tdGnxOMWOZ18Z+/yFgAACAASURBVIll9XxsSf2AuI2te1txGyqpoySM39a9rcMaEl1AanqSTT2SN4GVSqly7CcYnT5ekzcK5fGVa1oUgYJ7nuXjXGOmRUd/lGA0t4j0cMzksRdPsHVvKz2hWHLujy6ZzyeX1VPh8ww5JpeaIKVe233X79XbV9ORYQ2JUuomEfmpUupLg9oBEJHvFnhtmmlAoTy+RpMWpdCeZ2M5V8sSukO5p3ePxi1+9dIJfranlU4ncLLEbfDhK+dx49WNVJUONSAJRqoJkoj/qPTpAlLTnUx3v8z5WTHMP41mzBTK4yvduBU+N+Ul7rRzFcPzbPAcZ/vDtHWFeON0L+s37WL7ofa0x/WFY7R1hegORrM2IjHTYtuBE9z84z18/w9v0hmI4nEpPrpkPg/86Qpuf+f5GY0IDPXsCsVM4pbw6RUN1JZ5aawtZUZ5iTYiGdh+qJ31m3bx9u88nfEeT3ZGFNunGlpsn3jkK4VDNuPC8N5lhVpHujUdbu+jLxynptTDjPKStMJ7OGanX4nkkN7dtITfHjzFT3Yd41RvGAC3oXj/5XP5zIpGZlaU5LTe1Jogc6v8fP4d53H95XO1/pEFxUodVCxGmyLl7kyDishf5WFtRUcbEs1EIFNamfs/tzznMremJTx9qJ37d7ZwvNvWMAwF77t0DjevXMCcKt+o1+p1G1SXeinXCRRzYqqlDhqt19Z+5+ca4BLgIef1J1LeG2niZuyUKiYQF5FlSqlvAp8HEulD/0FEHnf6fxU7Zb2J7WL8pNN+HXAX4AJ+JCLfdtrPA7ZilwF+Hrg5NeZFo5mopBPefW6Dlo4AbV2hrLewLBGeeeMMW3a00NJpi/YKuPbiWdy6qon5NcPXOB8Jv9dFtd+rBfRRMp1SB2VKkbIFQCm1AXiXiMSc1/8B/DaHOd4lImcHtX1PRP4ltUEpdQlwI3ApMA/4nVLqQuftHwDvAdqAvUqpbSLyKvAdZ6ytzro+B/wwh7VpNOPCYOHdtOzo8lkVvqyMiIjw3JEO7tvZzNEzgWT7ugtncuvqBSyoKxv+4AwkKhBW+nQG3rEynVIHZfOsOg9bXO90Xpc7bfnmBmCriESAt5RSR7BrxQMcEZGjAEqprcANSqnXgGuwMxQDbAG+iTYkk5pC1zWZKCTqRPRHYngMg85AhJ5wnL5wnC89dGDYCHIRYfdbndy3o5k3Tvcn29dcUMeG1U2cP7N8VOvRAYT5p1i1QCYC2RiSbwMvKKX+4Lx+J/YHdjYI8FullAD3iMgmp/0LSqlbgH3A/xKRLmA+sCvl2DanDewgyNT2FUAd0C0i8TT9B6CUug24DaCxsTHLpWuKTao4We330N4X5hvbDnInTDljsmbRDP7m3YvsLamOfvqjJtV+N9WlXjoCEe56+jB3cC6CXER4/lg3m597i1dPngvlWnFeLRvXNHHh7NE5Uvo8Lir9Hsq8Li2g55mxpg6aTGQTkLhZKfUE9oc3wFdE5FSW468RkRNKqVnAU0qpQ9hPDN/CNjLfwk5R/1mGePjb05PeRVky9E93DpuATWCL7VmuXVNkChXlPpGwLKErGKU3HOeKhmq++6nqIbVBBkeQH2jrZvNzzbzU1pMcZ2ljNRvWNHHpvKqc16CUoszr0gWkisC6xbOmzN9uJkY0JMr+mvJuYKGI3KmUalRKLReRPSMdKyInnJ/tSqlHgeUi8kzK2P8J/Mp52QY0pBxeD5xwfk/XfhaoVkq5naeS1P6aSchUFyd7wzG6AtFkfY8Ew0WQH+sM8OWfH2D/se5k+9vqq9i4pokr6qtznt9IKSDl1gWkNHkkm62tf8dOI38NcCe2F9YvgKszHaSUKgMMEelzfn8vcKdSaq6InHS6fQR4xfl9G/AzpdR3sTWYRcAe7CePRY6H1nFsQf7TIiLOdtvHsT23bgUey+60NRORqSpOhqImHYEI0Xj6vFiDI8jDMZP2vgjhuEWnY0QumVvBxjXnsaSxOuctqET9j4oSN4bWPzQFIBtDskJEliilXgAQka4s08jPBh51/ujdwM9E5DdKqZ8opa7E3oZqBm53xj2olHoYeBWIA38pIiaAUuoLwJPY7r/3ishBZ46/B7Yqpf4JeAH4cTYnrZmYjEWcHA+RfqQ5I3GTrkBsxLxYN17dwF1PH6YnFKM/Ek9m4wVYNKucjWuaWHFebc4GpMTjotrvGZCIsZBkew+mi0PFdCKbNPK7gdXAXsegzAR+KyJXFWOB+UYHJE5sRhNdPh4RxJnmfMeFM3OqD9LSEeB7Tx3mpePnNJA5lT7+Yt35rLmgLmcDMh7xH9neg6kW7T2dGGsa+buBR4FZSql/xt5K+loe16fRJBmNODkeIn26OQORGD/4wxGaZpRlVR/keFeILTubefpQe7KoVGNtKRtWL2DthTMxcjQg5SVuqko941JAKtt7MB0cKqYj2XhtPaCU2g9ci61XfFhEXiv4yjSaLBkPkX7wnJYluA2D1q7giEbkVE+Yn+xq4cmDp5IGZH61n1tWLeCaxbNyiuNIVCCs8o9vBt5s78FUd6iYrmQ0JEopA3hJRC4DDhVnSRpNboyHSJ+Y0+dxYVqC5WTJTaRYT8eZvgg/3d3CEy+fIu5YkNmVJdyycgHvvXROzgakwuemeoJ4YGV7D6aqQ8V0J6MhERFLKXVAKdUoIseKtSjN1CYbsTUXQXY0Iv1YBd/Pv+M8vv7YQaJxa0AZ2huvbhjStzMQ5Wd7jvHfB04QM20DMqPcy00rF3D9ZXPw5GAI3IZBpd9NhW9iRaBnew+mU7T3dCIbsf1pbFffPUAyqY+IfKiwSysMWmwfX7IRW0cjyOYi0o9V8E3Eg+w80pFMsT6n0j8krUl3MMpDe1v5rxdPEHFcf2tKPXxmRSN/8rZ5OW1FTYYSttneg2Kk69fkn1GlkU85+J3p2kXkj3lYW9HRhmR8ySa1dqHTb492/JHiQRL0hWM8vK+NXz5/nJBTS6TK7+HGqxu44cp5OUWTl5XYFQh1Bl7NeDNqry2l1IeBC4CXEyndNZqxkI3YWmhBNtfxo3GLzsDIddIDkTi/eL6Nn+9vIxCxDUiFz80nl9XzkavmDzBcmZgoArpGky2Zarb/O3ZK9x3At5y0KN8q2so0U5JsxNZCC7LZjm8m8mKFMseDhKImj75wnIf3tdIbto1NmdfFx5bW8/Gl9VkXhHIZigqfh0qfe0II6BpNtmT6C18LXCEiplKqFHgWO8miRpMziX3xN0730h8xqS3zUFdWklZszUaQzVUsT+1f7nUljUO68UWE3nCc7uDQvFipRGIm2w6c4ME9rXQ74/k8Bh+9aj6fXNZApT9zTfQEUzWFiY5gnz5kMiTRRIoSEQmqiarwaSY8qeL23Co/Z/sjdAZixExh0ayKIR8wI6XfzjXd/OD+oZiJAF6XQU8oNmD8YDROR3+UmDm8DhKNW/z65ZP8bPcxOgJ2QU6v2+CGK+Zx4/IGakqzySBU/BQmxWQ6lQTQZDYki5VSLzm/K+B857UCRETeVvDVaaYEg6OZZ1b4KCtxZxS3M0W45xodna4/QHWplyf+ei1gG4dTPeGMOkjctPjNwVP8dNcx2vsiAHhcig9cPpfPrGikrrwkm8tBmaN/TOUU7jqCfXqRyZBcXLRVaKY0+RbPcx0vU/+EDtIXjg9b4ta0hKdePc1PdrVwsicM2HrG9ZfN4TMrGpld6RtxzYZSlDsp3HOJG5ms6Aj26UWmmu0txVyIZuqSb/E81/HS9Q9G48yp9NHaOXxKE9MStr/ezpadLbR1hQAwFLznktncvHIB86qHj2JPMFEDCAuNjmCfXky9zdlpzkQUOPMdzZzreIP7ByJxInGLjy2pT2tELBGePXyW+3Y009Jhf4NWwDWLZ3HLqgU01I78YehxGVSXjj6AcCLex1zQEezTixEDEqcaUzkgcSKn6M53NHOu420/1M4Pt7/Jsa4AsyuGRqGD7a21480O7tvRzJtnkkkcWHvhDG5d1cR5M8pGXFc+BPSJfB9zQUewTy3GFNk+aKAlIvJ83lY2DkxlQ1LoiPDJSsy06ApE6Y+kF9JFhL3NXWze0czrp/qS7avPr2PD6iYumFU+4hw+j4ua0vzUANH3UTMRGWs9klR+BCwZ+5I0hUALnAOxLKE7FKMnFBtWSH/+WBebn2vm4IneZNvypho2rGli8ZzKEecoRBEpfR81k41cDcn0UQsnIVrgtBERekNxukPDBxS+3NbD5h1v8WLruaqEVzVWs3F1E5fNrxpxjlKvm+rSwrjw6vuomWzkakj+v4KsQpMXtMAJ/ZE4XYHhAwpfO9nL5uea2dfSlWy7fH4lG9ecx5UN1SOOX4wqhPo+aiYbORkSEfmvQi1Ekz3DefSMFBFe6Plz7ZNP0mXm3XO0k617WznZG6LK58EwFIdSNJDFcyrYuKaJZQtqUEoN6D83JS18oohUrjEgo70GxbqPGk2+0F5bk4zx9ugpVD2R0RKOmXQFo4Si5oD2PUc7uevpw1gi9EfiyWy8ABfMKmfj6iZWOkYitb/bUAMKVf3v6y/m+rfNzTkGZLzvk0aTbzKJ7cN+vVJKPa6UairUojSjIzX1hFL2T49Lcc8zRyfM/MVYYyRucqonzInu0BAjAnDfjmZ6gjFO90aSRsRjKJrqSrnnpiWsOr9uQHzH1r2tuA37Q99QBhU+D36PwQN7jo0qkHC875NGU0wybW3dB/xWKbUF+D8ikjmXtqYojLdHz3jXE4mZFl3BKP3h9K68x7tD/GRnC4dOn9vC8rgUdWVeyktc9EfMtAGCie0vt8vAUCQ//IuVxkWjmcxkSpHysFLq18A3gH1KqZ8AVsr73y3C+jSDGG+PnvGqJ2JaQncwSu8wObFO9Yb56a4WfvPKKRKOWi5DMbPMS4XPfioIxUzmVA5Na+L3ulhQW0ZHIEJJytNHMdO4aDSTmZGUwxh2nfYSoGLQvxFRSjUrpV5WSr2olNrntNUqpZ5SSh12ftY47UopdbdS6ohS6iWl1JKUcW51+h9WSt2a0r7UGf+Ic+yUd0++fe1CYqYQjNofqMFoPG2tjvWbdvH27zzN+k272H6ovajzZ9MnWyxL+NWLJ/jYD3fw/ruf5W+2vsieo53J98/0Rbjr94e55cd7ePxl24jMqijho1fNZ2a5F4/bAGV/iMct4carGwCnCqHPzfwaP3Or/PzFuvOzXnM21zef10CjmegMK7Yrpa4DvgtsA+4UkZyfyZVSzcAyETmb0vZ/gE4R+bZS6itAjYj8vVLq/cAXgfcDK4C7RGSFUqoW2AcsAwTYDywVkS6l1B7gDmAX8Dhwt4g8kWlNk11sh8ypJ4oh8maT+mKs6TESxaWefOUk3/vdUBH8s6ubOHS6j20HThAz7b/hunIvN61o5PrL5uJ1G0kvrFO9IeY4XlirLqij0ueh0j80iWK255Xt9dUpQjRTiVGlSFFKPQv8mYgcHMPEzQw1JK8D60TkpFJqLrBdRC5SSt3j/P5gar/EPxG53Wm/B9ju/PuDiCx22ten9huOqWBIMjEV0mv0hWN0B2PETIsvPXSAjkAEvxP4Z1pCe1+EQDSe3MKqKfWwfnkjH3zbXEqGCRD0uAyqSu0qhGN5cJ0K11ejGQ2jSpEiIu/Iw9yCLdgLcI+IbAJmi8hJZ46TSqnEV7T5QGvKsW1OW6b2tjTtQ1BK3QbcBtDY2DjWc5rQTGaRNxiN0xmIDogFOdkbotLnTtYN6Q7Fkgak0ufmxqsbuOGq+UlDMxifx0V1qWfAB/9YmMzXV6MpFIVOI79GRE44xuIppdShDH3TfU2UUbQPbbQN2Cawn0gyL3lyMxlF3kjcpDMwNBYEYFa5j5bOAP2Rc08gSsHsCh//ecvSYbPs5jOJYiqT8fpqNIWmoIZERE44P9uVUo8Cy4HTSqm5KVtbCaWyDWhIObweOOG0rxvUvt1pr0/Tf1ozmvQamSKwCxmhnpqVd3BU+Uevmk9bd5A3z/YTdAyMoewUJX6vi7++dlFaI1KIJIqpFCN9yXjdD41mtBQssl0pVQYYItLn/P4UcCdwLdCRIrbXisjfKaU+AHyBc2L73SKy3BHb93Mu6/Dz2GJ7p1JqL7ZAvxtbbP83EXk807qmukYCuYm8mcRjoCDCveVsUyVceVOjyr1uRUd/jN7wuS0sj0tRU+oFEeZVl6atJeL32k8gxaiDXkgRfTzuh0aTDXmrR5LjpAuBR52XbuBnIvLPSqk64GGgETgGfMIxCgr4PnAdEAQ2ikjCZfizwD84Y/2ziGx22pdhB076gSeAL8oIJzQdDEkuZBKPgbwKy5Yl9Dhp3VMrE37poQOc7Q8TjQsdwXMZexXw0SXzWb+8kdoyb9oxC5mFdzwo5v3QaHIhn/VIskZEjgJXpGnvwH4qGdwuwF8OM9a9wL1p2vcBl415sdOYTOKxQF6EZcsSesO2ARmc1j1uWrx5tp9Q1I7zSFDld+N1Gfzluy5IO2YxsvCOB8W4HxpNvtE126c5I4nHYxGWM9UFMS3hd6+d5v6dLfSlpDup9LmpK/MSt4S6spIBx7gMRYXPQ6XPjTuHLLyTiULeD42mUGhDMkXJVpQdSTwerbDcG47RHYgRtwbWBbFE2P76GbbsaKa1KwTYW1g+j0G130O5z50MOkxEobsNgyq/h0r/2GJABjMRhetC3Q+NppDoNPJTkFyj20eKlM9FWA5E7FiQwYWlRIRnj5xly44W3jobAGwDsu6imdy6qolTPeEhUehrFs3ISxBhOiZymvd83g+NJl+Mi9g+UZkOhmQ8oq+D0ThdwRiR2MBYEBFh59EO7tvRwpH2/mT7OxbNYMPqJs6bUTZkLI/LoLrUQ4XPM+S9fKEj1DWa3BgXsV0zfhQz+joUtQtLhdMYkH0tXWx+rnlAVcKVC2vZuLqJRbOH5v30uAxqyryUDxNkmE90hLpGkz+0IZmCFCP6Ohyzo9EHGxCAF451cd+OZl4+3ptsW7agho1rmrh4buWQ/sV4AhmMjlDXaPKHNiRTkHxHt//N1ufZ9tIpTEswFLz34ln83fUXDxnjleM93PtcMy+2difbrmyoYuPq87i8vmpI/4QBKS+ABjISxYhQ12imC1ojmaLkK7r9sRfbePTFk0OOeffimfzDBy4B4NCpXjY/18ze5q7k+5fOq2TjmiaWNNYMOdbrNqguLc4WVia0cK3RZI8W21OYLoYkFzIJz7vf6sBK8ydiKLjnpqVs3tHMjjc7ku0Xza5g45omrm6qGfKUUep1U+X3FCwPlkajKRxabNdkJJ3wXOIyaO7oT2tEACyBz/9kf/L1+TPL2LC6idXn1w0xIFM1Cl2j0dhoQ6IZIDyblmBadmnY2RV+TvdGhjUmAAvqStm4uom3L5qBMdiA+NxU+7143VMzCl2j0dhoQ6Lh9rUL+dpjrxAzo5S4jQGR5TPKPfzu0Jkhx5S4DeZU+ghF49y/o5n7d7YQiMYp87hwGYpgzKSxtkzrDgVkIkbma6Yn+qviNKcvHOP8WeV8Yd0F1JaW0BeOU1dWwh3XLKJpRik+r3tIBbGGGh81pR4sEdyGoqUzSEtHgHjcpKUzyFsdQdyGor0vzDe2HWT7ofa0c2tGT8JBor0vTLXfo6+1ZlzRTyTTlP5InK6UVCbLF9Yma3x09Ed4YPcxvr7tFWKmva81q6KEm1Yu4LpLZ/N3j7ycrKPe2hXBpRQo6ArF8RgGKDjbH2XhzHKC0Tj3PHNUf1POM/c8cxSPSyUdJEq9bn2tNeOGNiTTjMEGJJWuYJSte1p57MCJZN30ujIvn17RyAcun5vUOhJ11A1DETMt3I7xsExBKUBB1BlfR4sXBh2Zr5lIaEMyTQhE4nQFo0kDkUpvKMbD+1r55QvHCcfs96v9HtYvb+BDV8yjJKVolKEUDTWldAYi+DwGJW4XceepxVCQ8Cb3OmnedbR4YdCR+ZqJhDYkk5hsxNbBBiS1NvrM8hJmV/rYebQjWRe90ufmU1c38OEr5w+J93i5rYcH9xyjuSNAXzhOTanJjHIvx7vDIFBX5qErGAeBOZUlBKNxYqawamEt6zft0qLwKEl3nydCZL4W+zUJdEDiJGWkNOihqElnMDogG2+iNrqhnFxZwVjyCaKsxMUnltbzsSX1lA2KOC/1unm5rZtv/fq15HwdgQidgRgVJS5mlJeglKI/EqfM60r+Xl9TyqqFtTzy/PEJma59MjBSDffxisyfyGn4NYVBByROQYYTW/99+5tcNLeCUHRoMsUHdh8jGI3TF44nY0MUtpC+6ZalQ5Im+jwuasu8+Dwu/uah5gHzzSj3Uep1j5h2ff2mXVoUHgOZRPUHb1s5btdQi/2aVLQhmaQMFltNS3ApxbHOwBAjEo1b/PdLJzh4smeAAaku9VBd6iEUNQcYEa/boLbMO2D/fbTirhaFx8ZEvX4TdV2a8UEbkklKQmwtcbswLUFECMVM5lT6k31ipsXjL5/igd0tnO2PJtur/R5qSz24XcaAY7xug5pS75CtrdT5chV3tSg8Nibq9Zuo69KMDzogcZJyy8oFhKImfeEYlliEYmYyGj1uWjzx8kluuXcPd/3+MGf7o7gNxcrzaplVUUKFz43LpZLHfGZFI7MqfdTXlKY1ImBHv8dMO3WKiCSF9JHE3dEep7GZqNdvoq5LMz5osX2UjIfHiojQF4nTE4wRM62kB1aizvknl9XTF4mzZWczJ7rDgO2Se92lc7hp5QKOdQTZ9Ky9ZoCGGj9fft9irr98blbnNFza9dEep7HJx/Ubj79HfV+nFzqNfAr5MCTF9lixLKE3HKM3FCduDY0DsUT44+tn2LKzhWOdtpEwFFx78WxuWbmA+TX+pMeW27DXHLMsTIvkmkd7Ttp7Z2zk4/rpe6ApBpkMid7aGgWpHitK2T89LsU9zxzN6zymJXQForR2BekMRIcYERHh2cNnue3+/Xzr168ljci6C2fy41uX8dXrFzO/xtY/tu5txeNSVPg8lHhclJd4Bqx5tOdUrGsxVcnH9dP3QDPeFFxsV0q5gH3AcRH5E6XUfcA7gR6nywYReVHZRSzuAt4PBJ32550xbgW+5vT/JxHZ4rQvBe4D/MDjwB1ShEesQnusxE2LnlDMcdMdejoiwu63Otn8XDOH2/uT7W+/YAYbVi9g4czyAf09LoP2/jC1pd4BtUJS16y9ssaHfFw/fQ80400xvLbuAF4DKlPaviwijwzqdz2wyPm3AvghsEIpVQv8I7AMEGC/UmqbiHQ5fW4DdmEbkuuAJwp4LkDhPFYicZOeUIxAxCSdPRQR9rd0cd+OZl492ZdsX7mwlg2rm7hwdsWA/m7DoKbMQ4XPw4Lasoxr1l5Z40M+rp++B5rxpqCGRClVD3wA+GfgSyN0vwG433mi2KWUqlZKzQXWAU+JSKcz5lPAdUqp7UCliOx02u8HPkwRDMlw6SlySQWSKo7Oq/Jz49UNXNlYPeycB1q7ufe5Zl4+3pNsW7qgho2rm7hkXuWAvoZSVJd6qPJ7kk8gmVJqbD/UTncwSnNHEI9LMbuiBLfLyNora7xTdRSaQgrZ+bh+0+EeaCY2hdZI/h/wd8BghfiflVIvKaW+p5QqcdrmA60pfdqctkztbWnah6CUuk0ptU8pte/MmaFFmnJl3eJZ3PmhS5lV4aMnFGNWhY+PL5nPI88fz6o+xPZD7Xz9sVc42ROi1OPiZE+I//vb19lztHNI34Mnevjbnx/gbx4+kDQib6uv4nufuoL/+/G3DTAiSikq/R7qa/xUD9rGSrfmRJqNb2w7SNS0qK/2gUBbdwiPobISa4cbd6qIvIWu+5GP6zfV74Fm4lOwJxKl1J8A7SKyXym1LuWtrwKnAC+wCfh74E4YUj8J7K2sXNuHNopscuZi2bJledFQ1i2eNeA/arapQExL+P4fjqDUuQy5iW+RW/e2JmuCvHG6j3ufa2bPW+eMyyVzK9i45jyWNFanrYteU+bF4xr+u8HgNadbd6XfSzAap6asJOsPonTjThWKkQokH9dvKt8DzcSnkFtba4APKaXeD/iASqXUT0XkJuf9iFJqM/C3zus2oCHl+HrghNO+blD7dqe9Pk3/cWEkwTNmWnQHY/RH4rR2Ban0Dbz0Po/Bqd4Qb57p577nmnnuzY7kexfOLmfjmiaWN9UOMSBlJW6qSz2UuAdm6s3Xuqc7+vpoNCNTsK0tEfmqiNSLSBNwI/C0iNzk6B44XlofBl5xDtkG3KJsVgI9InISeBJ4r1KqRilVA7wXeNJ5r08ptdIZ6xbgsUKdz0g01JQSig3McRWKmcyr9tPeG6a1M0hfOIaIMLfSn6z7kaAvHCccs/j8/fuTRmThzDLu/NCl/PAzS1hxXt0AI1LqdTOv2s/sSt+ojUimdWuh1kZfH41mZMYj19YDSqmZ2FtTLwJ/5rQ/ju36ewTb/XcjgIh0KqW+Bex1+t2ZEN6BP+ec++8TFEFoH47BgmcgGicSt/jIlfPpj8QH9L3x6gbuevowp3vD9ITjQ8ZaUFvKraubWHvhDIxBTyCpGXnHIgInjn3jdC/9EZPaMg91ZSVDRPhsIq7fON1LzBS8boNFsyqmVISzFrI1mpHRke155A+vneaHfzxKa1eA2RW2J1ZC8xjM1x99mefSiOtrL6jj6x+8FJcx0IB43QZ1ZSXJYlNjiWYefOzZ/ghdwRgVPnfSEAAZx0+MEY2bdASchJACMyq8eFyuKSX26lQgGo2uR1JwTEvoC8c4f1YF3/7Y5Rn7numL8NPdLUOMiNtQdpzIse4BRiQ1FiSVsYjAg4+dWeGjrGRgbZGRnAcSY3T0xzFQGIbCEqE3FGdOlXtK1aXQQrZGkxltSMZAzIlA7x8mAj2VzkCUn+0+xn+/dIKYea6v21AYynbdtZxU8GDHglT57XohgwV2GJsInM2xI/VJvB81LVzO+pSCqGlpMVqjmWZoQzIKwjGT3lBsiPaR/NHJogAAEi5JREFUju5glK17W3nsxRNEnLrptWVe+sMxuxhVytOHiP1hXen3UFPqHbK9lcpYopmzOXakPon3vS6DuCkoZa/f69Q40WK0RjN90IYkCxJ75C2dAeZU+vjkUttLeeveVk72hphbOVQP6Q3F+Pn+Nn7xfFvSQ6vK72HN+XW0dYY4FI5iCpjxgd5bVR6DD//guRHF89vXLuRvHznA8e5Q0iCVl7i54Yp5XPe9P/JWRxDLEjwuA7/X4MLZlUntI5so9pFE5sT7FT43HYEoliUgUFnm0WJ0nihERP14pJvXTH202D4Cf3jtNF/fdhBDQYnbIByzkk8i5SVufB67LW4Jd1yziEvmV/KL/W08sr+NgFPytsLn5lPLGmio8fMfzxwlbpp0BWLEB116BbgMxfxqX/LDfTjRevuhdr78yAH6wnZqebdh4HXZTzDBmAUICRvlMmBmeQlxS1BApd9D3LQ43RshZlksmlnOV66/eNgaF8OJzIn3D5/uJTpFvbbGi0Kkhtfp5jVjQdcjSSFbQyIi9IbjbLh3D2f7I/g952I1mjsDINBUV5ZsC0TjWBb0R+P0OS69ZV4XH1taz8eX1lNe4uZLDx2gIxDhbH+EuCXETUGwa4cIgNjeWW5DsXBmOcFofIAAnsr6TbuGbD0dbu8jGrfwGAYxyyL11pZ6XZhiPzUsSknumGkOzfiR7v6O9V4VYkzN9EF7beVAwgOrJ2RrGCd6QkOi0C1Lkh/SlgjdoRhdAXurCuwo9Y9eNZ9PLmugMkWwPtlrjxUzLVyGSuZzcT7fgXOCNWQWz9OJ4aYlWEJSr0ABztiJMQd/cdDC+MSkEBH1OkpfUyi0IXGIxi16w3YNkNQP27mVfjoCA59IDEMhltAVjNIZtA0O2J/bH19az/rlDVSXeofMMbfKT3cwitdlYAoY6twHP2B/6Mu5HFyZROt0YrjLUJiOkUsaE2dd9pwCMlDA18L4xKQQqeF1unlNoZj2hiQUtWuABKPpPbASUeihmInPYxCKmriVIiTCmf5osl+p18VfX7uId18ye8gYe97q5JH9bbR2BuiPmJR6DfrDJlbyqeZc30jcoqrcTpyYKcI8nRheXuImapgEYxaGYoAGE42b+DwufB5XxijtdHMBeRNotdibHbevXciXHznA8a5QUgOr8Ln5+gcuGdOYOkpfUwimband/kictq4gJ3tCwxoRgOULa7njmkXUlno53RuhvS9KMHZOf/B7DC6ZU8k3PnBJWiNyoLWbH/zhCF3BKHOr/NSWeQhGLVxG+vTFbkPREYzhdRkD0rwPTmMODEkd/i8fv4K71y/hgpllydgThX2TXYaBz+Pi5pULhk03ni5l+pcfOcDfPnIgL2nUC52SfaohAE6MEWqY1NY5oNPNawrFtHsisURo7QwSMweXSEmPaQm9kRgdwSi9johuKHjvJXO4eVUjc6v8aY8r8bioK/Pyvx99Ba/bSG4nzCj3Uep1c6YvwvyaEk71hIlbgqEUliW4XYo5VT6qS72sWzwrY4T5g7etTPshkDgunbC682jnsMJqumj5410hUCTPcyxp1IuRkn2qcM8zR6nyewb8feXjWukofU0hmHaGJGZKVkbEEuGZN86yZWczLR22GKmAay+exc0rF9BQm35feXBKk+EEzkDUpNHjsiPDjeEjw4tZSz3dMXHLGhJZP1qBVou92aOvlWYyMe0MyUiICDve7GDzjmaOngkk29954UxuXb1ggMtvKsOlNBlO4Czz2nvUXpdhx3cMExlezFrq6Y5xG0P34EYr0GqxN3v0tdJMJqatRjIYEWH3Wx38xQMv8PXHDiaNyJrz6/iray6gJxjjq798mS89dGBISdwKn13etqbMO+Tb++1rFxIzhWDU9gY72x+mrSuEJRZtXSFK3AaxuEU4ZhIx///2zjU2ruKK47+/7dh5OA87JE1IUuKIN+EVLCAJRYhSIJTSUtE2aT/wEEIU2kKpVEhpq1CByqMfKKICIp5FgkAjKBABKYFWQFoeDiGQ8AwkgCGQUCC8C8GnH2bsXDtrx7v3rnfXe37S1c49O3dmjuden71zZs50dMXvSq4gT17f0wk/b+FjHHLJQ8xb+Fg3X0Nf1/VGrmtGDq2jsaEur3LyKd+dvbnp7W81c1pzr33uOKWi6hYk7r3fDLvrgYe7zs2Mla9/wPXL1/Pchg+75AdObeLk2S1s/vRL/vzQy9TVaJtV7IftPp7mEfXU1/Vtj7tWgG/8iI8+30LT8CHs0NjAux+HxYmdI201giG1YXbOZSfs280J3nOFOfQd5r236/oTYj5XXVmFUfeQ7P2n599q5rRmFj/1pq9Md0qCr2xPkDQkz7R/wA3L17OqfXPX9zO+PoaTZk1l+qTRAF2r0ZPrSD7f8hUTRg3j9tNn5lV3b6vRC1lt7quUqw/vc6eU+Mr2Hjy/4UNuWL6ettfe75LtPWkUp8xuYd8pY7rl7VyNDoCCz2Bkrdiw+bO86+1tNXohq83dGVt9eJ875UrVGZI33/+MM29Z2XW+x8SRnDxrKgfs1JRz34/Ole2NDXXU1ghJfPpFds7m2hoVtNrcnbHVh/e5U65UnbP9k7j4cOfxjVz0velcOW9/Wqc25zQiACfNmgpsjVWVtbO5saGOkUPzd2a747r68D53ypWq85GMnLKbXXnbUg7ZeWyvxgNgWH0tzSPqaair5YplL3Hto+v45IswbffUQ1pY9+7H3P3M2117gRy3zwRadmjcJt8vjti1W7lZOrPTONPThijpbzmF1Jd1GJVyL6+QunP1uYefcYqJO9sT9Jy11ZMhtTU0j6hnREMYPsi1h8OGzZ/zadxrZNvrw9a5HRaOsw7feRtjUiqy2o+iv+UUUl/We2aUe3lZUa7tcgYPfRmSqhva6o3aGjG2sYHJTcO6jAh0D+shKYb1CEZE2np0UldTQ41q4idc++i6gValV3LpMqRWXPPwq0Upp5D6smpjpZSXFeXaLqc6qHpDorgifUrTcEYPG7LNcNcb73/abepvPtSIrl0Sy4FcuhQy66e/5RRSX1ZtrJTysqJc2+VUB1VtSIbX1zFpzDDGNjZQU5PbXzKlaTiffVmYMeiwsEtiuZBLl0Jm/fS3nELqy6qNlVJeVpRru5zqoOiGRFKtpJWSlsTzFkmPS3pZ0m2S6qO8IZ6vjd9PTZQxP8pflHRUQn50lK2VdF5/2zSktoYJo4cyYfTQ7a5KzzVTZng0DmZbj062dHTQYR3xE049pKW/zSo6Wc366W85WYVpSTMzqdzLy4pybZdTHRTd2S7pHKAVGGVmx0q6HbjDzBZJuhpYZWZXSToD2MfMTpc0FzjezH4kaU/gVuBAYEdgGdDpvX4J+BbQDjwJzDOz5/pqz/4zDrCnVrT1OWOrJ7lmytz1dHtBs7ZKTVYhSvpbTlZhWrKYZVWu5WVFubbLGRyUbNaWpMnATcBFwDnAd4BNwAQz2yJpJrDAzI6StDSm/yOpDngbGAecB2Bmf4xlLgUWxCoWmNlRUT4/ma83Wltbra2tLVtFHcdxBjmlnLV1OfBroHMDkLHAB2bWuSVhOzAppicBbwDE7zfH/F3yHtf0Jt8GSadJapPUtmnTprQ6OY7jOAmKZkgkHQtsNLMVSXGOrLad7/KVbys0W2hmrWbWOm7cuD5a7TiO4+RLMWNtzQaOk3QMMBQYRXhDGSOpLr51TAbeivnbgSlAexzaGg28l5B3krymN7njOI4zQBTtjcTM5pvZZDObCswFHjKznwD/BE6I2U4E7orpu+M58fuHLDhw7gbmxlldLcAuwBME5/oucRZYfazj7mLp4ziO4+SmFNF/zwUWSboQWAlcF+XXATdLWkt4E5kLYGZr4kyv54AtwJlm9hWApJ8BS4Fa4HozWzOgmjiO4zjVF2vLZ205juPkj8fachzHcYqGGxLHcRwnFW5IHMdxnFRUnY9E0ibgtQIv3wF4N8PmlBLXpTwZLLoMFj3AdelkJzPLuRCv6gxJGiS19eZsqjRcl/JksOgyWPQA16U/+NCW4ziOkwo3JI7jOE4q3JDkx8JSNyBDXJfyZLDoMlj0ANdlu7iPxHEcx0mFv5E4juM4qXBD4jiO46Si6gyJpKGSnpC0StIaSRdEecn3kk+hU62klZKWVLIuktZLelbS05LaoqxZ0gNRlwckNUW5JF0R2/WMpBmJck6M+V+WdGJCfkAsf228tv/7LeevyxhJiyW9IOl5STMrURdJu8X+6Dw+lHR2heryy/jMr5Z0q8L/gkp9Vs6KeqyRdHaUla5PzKyqDsKGWI0xPQR4HDgYuB2YG+VXAz+N6TOAq2N6LnBbTO8JrAIagBbgFUIU4tqYngbUxzx7Flmnc4BbgCXxvCJ1AdYDO/SQXQqcF9PnAZfE9DHAfbE/DwYej/Jm4NX42RTTTfG7J4CZ8Zr7gDlF1OUm4NSYrgfGVKouCZ1qCVtg71RpuhB2T10HDEs8IydV4rMCTAdWA8MJEdyXEbbXKFmfFPXGK/cjdsRTwEGE1Z51UT4TWBrTS4GZMV0X8wmYD8xPlLU0Xtd1bZR3y1cEHSYDDwKHA0ti2ypVl/Vsa0heBCbG9ETgxZi+BpjXMx8wD7gmIb8myiYCLyTk3fJlrMcowj8tVbouPdp/JLC8EnVh69bczfHeXwIcVYnPCvAD4NrE+e8IW5qXrE+qbmgLuoaCngY2Ag8QfkkM+F7yGXE54SbqiOdjqVxdDPiHpBWSTouyr5nZhtjmDcD4KM+3zZNiuqe8GEwDNgE3KAw5XitpBJWpS5K5wK0xXVG6mNmbwJ+A14ENhHt/BZX5rKwGDpU0VtJwwhvHFErYJ1VpSMzsKzPbj/Br/kBgj1zZ4mfR9pJPi6RjgY1mtiIp7qP+stUlMtvMZgBzgDMlHdpH3nLWpQ6YAVxlZvsDnxCGGnqjnHUBIPoOjgP+tr2sOWQl1yX6C75LGI7aERhBuM96q7ss9QAws+eBSwg/gu8nDKNt6eOSoutSlYakEzP7APgXYdxwjMJe8ZB7L3nUv73k+9pjPmtmA8dJWg8sIgxvXU5l6oKZvRU/NwJ3Eoz8O5ImxjZPJLxFdtOln21uj+me8mLQDrSb2ePxfDHBsFSiLp3MAZ4ys3fieaXpcgSwzsw2mdmXwB3ALCr3WbnOzGaY2aGxXS9Tyj4p1nhquR7AOGBMTA8DHgGOJfzSSjrdzojpM+nudLs9pveiu9PtVYLDrS6mW9jqdNtrAPQ6jK3O9orThfALcWQi/W/gaOAyujsQL43pb9PdgfhElDcT/BNN8VgHNMfvnox5Ox2IxxSxPx4BdovpBVGPitQl1rcIODlxXlG6EPygawh+UREmQ/y8Ep+V2I7x8fPrwAvxb1qyPinajVeuB7APYa/4Zwhjjb+P8mmEmQpr483VEOVD4/na+P20RFnnE/wrL5KY1UAYs3wpfnf+AOl1GFsNScXpEtu8Kh5rOusijEs/SPjF9WDiRhfwl9iuZ4HWRFmnRB3X0v2fX2vs81eAK+nhDM9Yn/2Atnif/T0+qJWqy3Dgv8DohKzidAEuIPzTXQ3cTDAGFfesxLoeAZ6Lz8s3S90nHiLFcRzHSUVV+0gcx3Gc9LghcRzHcVLhhsRxHMdJhRsSx3EcJxVuSBzHcZxUuCFxnBTEyKqPSpqTkP1Q0v39uHbvRFTd9ySti+llBbTjHElD873OcbLAp/86TkokTSesOdifsDjtaeBoM3sljzJuJKwDWlxgG9qB6RaiNTjOgFK3/SyO4/SFma2WdA9wLmFV/l/zMSK9Efe0+D5hcdxiM/uDpJGE0Oc7EozWAkKYi/HAI5LeMbMj0tbtOPnghsRxsuECwpYEXxBWBadC0jGE8BcHEVYm3ytpFsForDezOTHfaDPbLOlXwDf8jcQpBW5IHCcDzOwTSbcBH5vZ/zIo8khCoMSV8bwR2JWwEdvFki4G7jGz5RnU5TipcGe742RHB1v3helC0vEJp3p/31YEXGhm+8VjZzO70UII8VZCPLLLJP0mu+Y7TmH4G4njFBkzu5MQFj8flgK/lbQovu1MBj4nBBp818xulvQZITItwEfASMCHtpwBxw2J45QhZnavpN2BxyRBMBQ/JuwZfrGkDoI/5vR4yUJgmaQ33NnuDDQ+/ddxHMdJhftIHMdxnFS4IXEcx3FS4YbEcRzHSYUbEsdxHCcVbkgcx3GcVLghcRzHcVLhhsRxHMdJxf8BqDFX3Ci0O9wAAAAASUVORK5CYII=\n",
=======
      "image/png": "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\n",
>>>>>>> 5923c7c85b11a1b958a8f5809e2a0e993a24a5ae
      "text/plain": [
       "<Figure size 432x288 with 1 Axes>"
      ]
     },
     "metadata": {
      "needs_background": "light"
     },
     "output_type": "display_data"
    }
   ],
   "source": [
    "sns.regplot(y_test,predictions)\n",
    "plt.xlabel('Y - Test')\n",
    "plt.ylabel('Y - Predicted')"
   ]
  },
  {
   "cell_type": "code",
   "execution_count": 21,
   "metadata": {},
   "outputs": [
    {
     "data": {
      "text/html": [
       "<table class=\"simpletable\">\n",
       "<caption>OLS Regression Results</caption>\n",
       "<tr>\n",
<<<<<<< HEAD
       "  <th>Dep. Variable:</th>         <td>salary</td>      <th>  R-squared:         </th> <td>   0.344</td>\n",
       "</tr>\n",
       "<tr>\n",
       "  <th>Model:</th>                   <td>OLS</td>       <th>  Adj. R-squared:    </th> <td>   0.343</td>\n",
       "</tr>\n",
       "<tr>\n",
       "  <th>Method:</th>             <td>Least Squares</td>  <th>  F-statistic:       </th> <td>   187.5</td>\n",
       "</tr>\n",
       "<tr>\n",
       "  <th>Date:</th>             <td>Wed, 23 Oct 2019</td> <th>  Prob (F-statistic):</th> <td>1.35e-34</td>\n",
       "</tr>\n",
       "<tr>\n",
       "  <th>Time:</th>                 <td>13:29:44</td>     <th>  Log-Likelihood:    </th> <td> -3817.5</td>\n",
       "</tr>\n",
       "<tr>\n",
       "  <th>No. Observations:</th>      <td>   359</td>      <th>  AIC:               </th> <td>   7639.</td>\n",
       "</tr>\n",
       "<tr>\n",
       "  <th>Df Residuals:</th>          <td>   357</td>      <th>  BIC:               </th> <td>   7647.</td>\n",
=======
       "  <th>Dep. Variable:</th>         <td>salary</td>      <th>  R-squared:         </th> <td>   0.361</td>\n",
       "</tr>\n",
       "<tr>\n",
       "  <th>Model:</th>                   <td>OLS</td>       <th>  Adj. R-squared:    </th> <td>   0.360</td>\n",
       "</tr>\n",
       "<tr>\n",
       "  <th>Method:</th>             <td>Least Squares</td>  <th>  F-statistic:       </th> <td>   231.0</td>\n",
       "</tr>\n",
       "<tr>\n",
       "  <th>Date:</th>             <td>Mon, 07 Oct 2019</td> <th>  Prob (F-statistic):</th> <td>1.18e-41</td>\n",
       "</tr>\n",
       "<tr>\n",
       "  <th>Time:</th>                 <td>11:11:42</td>     <th>  Log-Likelihood:    </th> <td> -4354.3</td>\n",
       "</tr>\n",
       "<tr>\n",
       "  <th>No. Observations:</th>      <td>   410</td>      <th>  AIC:               </th> <td>   8713.</td>\n",
       "</tr>\n",
       "<tr>\n",
       "  <th>Df Residuals:</th>          <td>   408</td>      <th>  BIC:               </th> <td>   8721.</td>\n",
>>>>>>> 5923c7c85b11a1b958a8f5809e2a0e993a24a5ae
       "</tr>\n",
       "<tr>\n",
       "  <th>Df Model:</th>              <td>     1</td>      <th>                     </th>     <td> </td>   \n",
       "</tr>\n",
       "<tr>\n",
       "  <th>Covariance Type:</th>      <td>nonrobust</td>    <th>                     </th>     <td> </td>   \n",
       "</tr>\n",
       "</table>\n",
       "<table class=\"simpletable\">\n",
       "<tr>\n",
       "    <td></td>       <th>coef</th>     <th>std err</th>      <th>t</th>      <th>P>|t|</th>  <th>[0.025</th>    <th>0.975]</th>  \n",
       "</tr>\n",
       "<tr>\n",
<<<<<<< HEAD
       "  <th>const</th> <td> 4.082e+04</td> <td>  905.027</td> <td>   45.104</td> <td> 0.000</td> <td>  3.9e+04</td> <td> 4.26e+04</td>\n",
       "</tr>\n",
       "<tr>\n",
       "  <th>x1</th>    <td>  774.7688</td> <td>   56.582</td> <td>   13.693</td> <td> 0.000</td> <td>  663.493</td> <td>  886.044</td>\n",
=======
       "  <th>const</th> <td> 4.053e+04</td> <td>  841.115</td> <td>   48.183</td> <td> 0.000</td> <td> 3.89e+04</td> <td> 4.22e+04</td>\n",
       "</tr>\n",
       "<tr>\n",
       "  <th>x1</th>    <td>  796.7449</td> <td>   52.425</td> <td>   15.198</td> <td> 0.000</td> <td>  693.688</td> <td>  899.802</td>\n",
>>>>>>> 5923c7c85b11a1b958a8f5809e2a0e993a24a5ae
       "</tr>\n",
       "</table>\n",
       "<table class=\"simpletable\">\n",
       "<tr>\n",
<<<<<<< HEAD
       "  <th>Omnibus:</th>       <td>63.183</td> <th>  Durbin-Watson:     </th> <td>   2.085</td>\n",
       "</tr>\n",
       "<tr>\n",
       "  <th>Prob(Omnibus):</th> <td> 0.000</td> <th>  Jarque-Bera (JB):  </th> <td>  98.136</td>\n",
       "</tr>\n",
       "<tr>\n",
       "  <th>Skew:</th>          <td> 1.076</td> <th>  Prob(JB):          </th> <td>4.90e-22</td>\n",
       "</tr>\n",
       "<tr>\n",
       "  <th>Kurtosis:</th>      <td> 4.390</td> <th>  Cond. No.          </th> <td>    27.3</td>\n",
=======
       "  <th>Omnibus:</th>       <td>67.552</td> <th>  Durbin-Watson:     </th> <td>   2.082</td>\n",
       "</tr>\n",
       "<tr>\n",
       "  <th>Prob(Omnibus):</th> <td> 0.000</td> <th>  Jarque-Bera (JB):  </th> <td> 102.707</td>\n",
       "</tr>\n",
       "<tr>\n",
       "  <th>Skew:</th>          <td> 1.042</td> <th>  Prob(JB):          </th> <td>4.98e-23</td>\n",
       "</tr>\n",
       "<tr>\n",
       "  <th>Kurtosis:</th>      <td> 4.291</td> <th>  Cond. No.          </th> <td>    27.6</td>\n",
>>>>>>> 5923c7c85b11a1b958a8f5809e2a0e993a24a5ae
       "</tr>\n",
       "</table><br/><br/>Warnings:<br/>[1] Standard Errors assume that the covariance matrix of the errors is correctly specified."
      ],
      "text/plain": [
       "<class 'statsmodels.iolib.summary.Summary'>\n",
       "\"\"\"\n",
       "                            OLS Regression Results                            \n",
       "==============================================================================\n",
<<<<<<< HEAD
       "Dep. Variable:                 salary   R-squared:                       0.344\n",
       "Model:                            OLS   Adj. R-squared:                  0.343\n",
       "Method:                 Least Squares   F-statistic:                     187.5\n",
       "Date:                Wed, 23 Oct 2019   Prob (F-statistic):           1.35e-34\n",
       "Time:                        13:29:44   Log-Likelihood:                -3817.5\n",
       "No. Observations:                 359   AIC:                             7639.\n",
       "Df Residuals:                     357   BIC:                             7647.\n",
=======
       "Dep. Variable:                 salary   R-squared:                       0.361\n",
       "Model:                            OLS   Adj. R-squared:                  0.360\n",
       "Method:                 Least Squares   F-statistic:                     231.0\n",
       "Date:                Mon, 07 Oct 2019   Prob (F-statistic):           1.18e-41\n",
       "Time:                        11:11:42   Log-Likelihood:                -4354.3\n",
       "No. Observations:                 410   AIC:                             8713.\n",
       "Df Residuals:                     408   BIC:                             8721.\n",
>>>>>>> 5923c7c85b11a1b958a8f5809e2a0e993a24a5ae
       "Df Model:                           1                                         \n",
       "Covariance Type:            nonrobust                                         \n",
       "==============================================================================\n",
       "                 coef    std err          t      P>|t|      [0.025      0.975]\n",
       "------------------------------------------------------------------------------\n",
<<<<<<< HEAD
       "const       4.082e+04    905.027     45.104      0.000     3.9e+04    4.26e+04\n",
       "x1           774.7688     56.582     13.693      0.000     663.493     886.044\n",
       "==============================================================================\n",
       "Omnibus:                       63.183   Durbin-Watson:                   2.085\n",
       "Prob(Omnibus):                  0.000   Jarque-Bera (JB):               98.136\n",
       "Skew:                           1.076   Prob(JB):                     4.90e-22\n",
       "Kurtosis:                       4.390   Cond. No.                         27.3\n",
=======
       "const       4.053e+04    841.115     48.183      0.000    3.89e+04    4.22e+04\n",
       "x1           796.7449     52.425     15.198      0.000     693.688     899.802\n",
       "==============================================================================\n",
       "Omnibus:                       67.552   Durbin-Watson:                   2.082\n",
       "Prob(Omnibus):                  0.000   Jarque-Bera (JB):              102.707\n",
       "Skew:                           1.042   Prob(JB):                     4.98e-23\n",
       "Kurtosis:                       4.291   Cond. No.                         27.6\n",
>>>>>>> 5923c7c85b11a1b958a8f5809e2a0e993a24a5ae
       "==============================================================================\n",
       "\n",
       "Warnings:\n",
       "[1] Standard Errors assume that the covariance matrix of the errors is correctly specified.\n",
       "\"\"\""
      ]
     },
     "execution_count": 21,
     "metadata": {},
     "output_type": "execute_result"
    }
   ],
   "source": [
    "print_model = model.summary()\n",
    "print_model"
   ]
  },
  {
   "cell_type": "markdown",
   "metadata": {},
   "source": [
<<<<<<< HEAD
    "- The model does not significantly predict the dependant variable as the R^2 value is 0.344, which is really low. This value is statistically significant as the p-value is 0.00.\n",
    "\n",
    "- 34.4% of employees’ salaries is accounted for by the number of years they have worked\n",
    "\n",
    "- The 95% confidence intervals [0.025, 0.975]  are  [663.493 - 886.044] and this is the range in which our coffecient is likely to fall.\n",
    "\n",
    "- Holding all other features fixed, a 1 unit increase in **yearsworked** is associated with an **increase of 774.7688 **.\n",
=======
    "- The model does not significantly predict the dependant variable as the R^2 value is 0.361, which is really low. This value is statistically significant as the p-value is 0.00.\n",
    "\n",
    "- 36.1% of employees’ salaries is accounted for by the number of years they have worked\n",
    "\n",
    "- The 95% confidence intervals [0.025, 0.975]  are  [693.688 - 899.802] and this is the range in which our coffecient is likely to fall.\n",
    "\n",
    "- Holding all other features fixed, a 1 unit increase in **yearsworked** is associated with an **increase of 796.744946 **.\n",
>>>>>>> 5923c7c85b11a1b958a8f5809e2a0e993a24a5ae
    "\n",
    "- Another characteristic that can influence someones salary is the years worked at current rank. "
   ]
  },
  {
   "cell_type": "code",
   "execution_count": 22,
   "metadata": {},
   "outputs": [
    {
     "data": {
      "text/plain": [
<<<<<<< HEAD
       "0     50117.213957\n",
       "1    102801.492334\n",
=======
       "0     50088.125279\n",
       "1    104266.781603\n",
>>>>>>> 5923c7c85b11a1b958a8f5809e2a0e993a24a5ae
       "dtype: float64"
      ]
     },
     "execution_count": 22,
     "metadata": {},
     "output_type": "execute_result"
    }
   ],
   "source": [
    "model.predict(pd.DataFrame({'conts':1.0,'years':[12,80]}))"
   ]
  },
  {
   "cell_type": "markdown",
   "metadata": {},
   "source": [
<<<<<<< HEAD
    "- Someone with 12 years of experience will earn 50117.213957\n",
    "- Someone with 80 years experience will earn 102801.492334. This value you seems okay, consedering the fact that the model has a low accuracy. Compared to the the data it is the most amount of years and the largest salary. That make's sense in terms of the model because as years increase there is a tendency for the salary to increase as well."
=======
    "- Someone with 12 years of experience will earn 50088.125279\n",
    "- Someone with 80 years experience will earn 104266.781603. This value you seems okay, consedering the fact that the model has a low accuracy. Compared to the the data it is the most amount of years and the largest salary. That make's sense in terms of the model because as years increase there is a tendency for the salary to increase as well."
>>>>>>> 5923c7c85b11a1b958a8f5809e2a0e993a24a5ae
   ]
  },
  {
   "cell_type": "code",
   "execution_count": 23,
   "metadata": {},
   "outputs": [
    {
     "name": "stdout",
     "output_type": "stream",
     "text": [
<<<<<<< HEAD
      "TEST RMSE: 9639.131250830247\n",
      "TRAIN RMSE: 10045.176101008155\n"
=======
      "RMSE: 9933.185591978596\n"
>>>>>>> 5923c7c85b11a1b958a8f5809e2a0e993a24a5ae
     ]
    }
   ],
   "source": [
<<<<<<< HEAD
    "print('TEST RMSE:', np.sqrt(metrics.mean_squared_error(y_test, predictions)))\n",
    "print('TRAIN RMSE:', np.sqrt(metrics.mean_squared_error(y_train, model.predict(x_train))))\n"
=======
    "print('RMSE:', np.sqrt(metrics.mean_squared_error(y_test, predictions)))"
>>>>>>> 5923c7c85b11a1b958a8f5809e2a0e993a24a5ae
   ]
  },
  {
   "cell_type": "markdown",
   "metadata": {},
   "source": [
    "- The **RSME** value is really high, this tells us that it is not a good fit. There is no evidence of overfitting."
   ]
  },
  {
<<<<<<< HEAD
   "cell_type": "markdown",
   "metadata": {},
   "source": [
    "### Modelling without a constant\n"
   ]
  },
  {
   "cell_type": "code",
   "execution_count": 24,
   "metadata": {},
   "outputs": [],
   "source": [
    "x1_train, x1_test, y_train, y_test = train_test_split(x1, y, test_size=0.3, random_state=101)"
   ]
  },
  {
   "cell_type": "code",
   "execution_count": 25,
   "metadata": {},
   "outputs": [],
   "source": [
    "model1 = sm.OLS(y_train,x1_train).fit()"
   ]
  },
  {
   "cell_type": "code",
   "execution_count": 26,
   "metadata": {},
   "outputs": [],
   "source": [
    "predictions1 = model1.predict(x1_test) "
   ]
  },
  {
   "cell_type": "code",
   "execution_count": 27,
   "metadata": {},
   "outputs": [
    {
     "data": {
      "text/plain": [
       "Text(0, 0.5, 'Y - Predicted')"
      ]
     },
     "execution_count": 27,
     "metadata": {},
     "output_type": "execute_result"
    },
    {
     "data": {
      "image/png": "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\n",
      "text/plain": [
       "<Figure size 432x288 with 1 Axes>"
      ]
     },
     "metadata": {
      "needs_background": "light"
     },
     "output_type": "display_data"
    }
   ],
   "source": [
    "sns.regplot(y_test,predictions1)\n",
    "plt.xlabel('Y - Test')\n",
    "plt.ylabel('Y - Predicted')"
   ]
  },
  {
   "cell_type": "code",
   "execution_count": 28,
   "metadata": {},
   "outputs": [
    {
     "data": {
      "text/html": [
       "<table class=\"simpletable\">\n",
       "<caption>OLS Regression Results</caption>\n",
       "<tr>\n",
       "  <th>Dep. Variable:</th>         <td>salary</td>      <th>  R-squared (uncentered):</th>      <td>   0.753</td> \n",
       "</tr>\n",
       "<tr>\n",
       "  <th>Model:</th>                   <td>OLS</td>       <th>  Adj. R-squared (uncentered):</th> <td>   0.753</td> \n",
       "</tr>\n",
       "<tr>\n",
       "  <th>Method:</th>             <td>Least Squares</td>  <th>  F-statistic:       </th>          <td>   1093.</td> \n",
       "</tr>\n",
       "<tr>\n",
       "  <th>Date:</th>             <td>Wed, 23 Oct 2019</td> <th>  Prob (F-statistic):</th>          <td>7.81e-111</td>\n",
       "</tr>\n",
       "<tr>\n",
       "  <th>Time:</th>                 <td>13:29:45</td>     <th>  Log-Likelihood:    </th>          <td> -4158.9</td> \n",
       "</tr>\n",
       "<tr>\n",
       "  <th>No. Observations:</th>      <td>   359</td>      <th>  AIC:               </th>          <td>   8320.</td> \n",
       "</tr>\n",
       "<tr>\n",
       "  <th>Df Residuals:</th>          <td>   358</td>      <th>  BIC:               </th>          <td>   8324.</td> \n",
       "</tr>\n",
       "<tr>\n",
       "  <th>Df Model:</th>              <td>     1</td>      <th>                     </th>              <td> </td>    \n",
       "</tr>\n",
       "<tr>\n",
       "  <th>Covariance Type:</th>      <td>nonrobust</td>    <th>                     </th>              <td> </td>    \n",
       "</tr>\n",
       "</table>\n",
       "<table class=\"simpletable\">\n",
       "<tr>\n",
       "       <td></td>          <th>coef</th>     <th>std err</th>      <th>t</th>      <th>P>|t|</th>  <th>[0.025</th>    <th>0.975]</th>  \n",
       "</tr>\n",
       "<tr>\n",
       "  <th>yearsworked</th> <td> 2840.0566</td> <td>   85.905</td> <td>   33.061</td> <td> 0.000</td> <td> 2671.115</td> <td> 3008.998</td>\n",
       "</tr>\n",
       "</table>\n",
       "<table class=\"simpletable\">\n",
       "<tr>\n",
       "  <th>Omnibus:</th>       <td> 5.971</td> <th>  Durbin-Watson:     </th> <td>   1.437</td>\n",
       "</tr>\n",
       "<tr>\n",
       "  <th>Prob(Omnibus):</th> <td> 0.051</td> <th>  Jarque-Bera (JB):  </th> <td>   3.760</td>\n",
       "</tr>\n",
       "<tr>\n",
       "  <th>Skew:</th>          <td>-0.029</td> <th>  Prob(JB):          </th> <td>   0.153</td>\n",
       "</tr>\n",
       "<tr>\n",
       "  <th>Kurtosis:</th>      <td> 2.502</td> <th>  Cond. No.          </th> <td>    1.00</td>\n",
       "</tr>\n",
       "</table><br/><br/>Warnings:<br/>[1] Standard Errors assume that the covariance matrix of the errors is correctly specified."
      ],
      "text/plain": [
       "<class 'statsmodels.iolib.summary.Summary'>\n",
       "\"\"\"\n",
       "                                 OLS Regression Results                                \n",
       "=======================================================================================\n",
       "Dep. Variable:                 salary   R-squared (uncentered):                   0.753\n",
       "Model:                            OLS   Adj. R-squared (uncentered):              0.753\n",
       "Method:                 Least Squares   F-statistic:                              1093.\n",
       "Date:                Wed, 23 Oct 2019   Prob (F-statistic):                   7.81e-111\n",
       "Time:                        13:29:45   Log-Likelihood:                         -4158.9\n",
       "No. Observations:                 359   AIC:                                      8320.\n",
       "Df Residuals:                     358   BIC:                                      8324.\n",
       "Df Model:                           1                                                  \n",
       "Covariance Type:            nonrobust                                                  \n",
       "===============================================================================\n",
       "                  coef    std err          t      P>|t|      [0.025      0.975]\n",
       "-------------------------------------------------------------------------------\n",
       "yearsworked  2840.0566     85.905     33.061      0.000    2671.115    3008.998\n",
       "==============================================================================\n",
       "Omnibus:                        5.971   Durbin-Watson:                   1.437\n",
       "Prob(Omnibus):                  0.051   Jarque-Bera (JB):                3.760\n",
       "Skew:                          -0.029   Prob(JB):                        0.153\n",
       "Kurtosis:                       2.502   Cond. No.                         1.00\n",
       "==============================================================================\n",
       "\n",
       "Warnings:\n",
       "[1] Standard Errors assume that the covariance matrix of the errors is correctly specified.\n",
       "\"\"\""
      ]
     },
     "execution_count": 28,
     "metadata": {},
     "output_type": "execute_result"
    }
   ],
   "source": [
    "model1.summary()"
   ]
  },
  {
   "cell_type": "markdown",
   "metadata": {},
   "source": [
    "- The model does significantly predict the dependant variable as the R^2 value is 0.753. This value is statistically significant as the p-value is 0.00.\n",
    "\n",
    "- 75.3% of employees’ salaries is accounted for by the number of years they have worked\n",
    "\n",
    "- The 95% confidence intervals [0.025, 0.975]  are  [2671.115 - 3008.998] and this is the range in which our coffecient is likely to fall.\n",
    "\n",
    "- Holding all other features fixed, a 1 unit increase in **yearsworked** is associated with an **increase of 2840.0566 **.\n",
    "\n",
    "- Another characteristic that can influence someones salary is the years worked at current rank. "
   ]
  },
  {
   "cell_type": "code",
   "execution_count": 29,
   "metadata": {},
   "outputs": [
    {
     "data": {
      "text/plain": [
       "array([ 34080.67884927, 227204.5256618 ])"
      ]
     },
     "execution_count": 29,
     "metadata": {},
     "output_type": "execute_result"
    }
   ],
   "source": [
    "model1.predict([12,80])"
   ]
  },
  {
   "cell_type": "markdown",
   "metadata": {},
   "source": [
    "- Someone with 12 years of experience will earn 34080.67884927\n",
    "- Someone with 80 years experience will earn 227204.5256618. This value you seems okay, consedering the fact that the model has a low accuracy. Compared to the the data it is the most amount of years and the largest salary. That make's sense in terms of the model because as years increase there is a tendency for the salary to increase as well."
   ]
  },
  {
   "cell_type": "code",
   "execution_count": 30,
   "metadata": {},
   "outputs": [
    {
     "name": "stdout",
     "output_type": "stream",
     "text": [
      "TEST RMSE: 25156.779555611032\n",
      "TRAIN RMSE: 25998.23792521561\n"
     ]
    }
   ],
   "source": [
    "print('TEST RMSE:', np.sqrt(metrics.mean_squared_error(y_test, predictions1)))\n",
    "print('TRAIN RMSE:', np.sqrt(metrics.mean_squared_error(y_train, model1.predict(x1_train))))\n"
   ]
  },
  {
   "cell_type": "markdown",
   "metadata": {},
   "source": [
    "- The **RSME** value is really high, this tells us that it is not a good fit. There is no evidence of overfitting. This is even higher than the previous model with a constant. Therefore, the model with a constant is better at predicting."
   ]
  },
  {
   "cell_type": "markdown",
   "metadata": {},
   "source": [
    "After looking at **RMSE** values. We can can conclude that the model with a constant is better as the **RMSE** is signifcantly smaller than the model without a constant."
   ]
  },
  {
=======
>>>>>>> 5923c7c85b11a1b958a8f5809e2a0e993a24a5ae
   "cell_type": "code",
   "execution_count": null,
   "metadata": {},
   "outputs": [],
   "source": []
  }
 ],
 "metadata": {
  "kernelspec": {
   "display_name": "Python 3",
   "language": "python",
   "name": "python3"
  },
  "language_info": {
   "codemirror_mode": {
    "name": "ipython",
    "version": 3
   },
   "file_extension": ".py",
   "mimetype": "text/x-python",
   "name": "python",
   "nbconvert_exporter": "python",
   "pygments_lexer": "ipython3",
<<<<<<< HEAD
   "version": "3.7.4"
=======
   "version": "3.7.3"
>>>>>>> 5923c7c85b11a1b958a8f5809e2a0e993a24a5ae
  }
 },
 "nbformat": 4,
 "nbformat_minor": 2
}
